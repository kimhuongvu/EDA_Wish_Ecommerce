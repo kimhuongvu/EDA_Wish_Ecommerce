{
  "cells": [
    {
      "cell_type": "markdown",
      "metadata": {
        "id": "2uWDjvpUb7Dk"
      },
      "source": [
        "# SET UP"
      ]
    },
    {
      "cell_type": "code",
      "execution_count": null,
      "metadata": {
        "id": "MUh_vbN8ahjz"
      },
      "outputs": [],
      "source": [
        "import numpy as np\n",
        "import pandas as pd\n",
        "import matplotlib.pyplot as plt\n",
        "import seaborn as sns\n",
        "import cv2\n",
        "import zipfile\n",
        "import os\n",
        "import shutil\n",
        "import glob as gb\n",
        "import pathlib\n",
        "plt.style.use('seaborn')\n",
        "import warnings\n",
        "warnings.filterwarnings('ignore')\n",
        "import pickle\n",
        "\n",
        "# Preprocessing\n",
        "from sklearn.preprocessing import OneHotEncoder,MinMaxScaler,PolynomialFeatures,OrdinalEncoder\n",
        "from sklearn.compose import ColumnTransformer\n",
        "from sklearn.pipeline import Pipeline\n",
        "from sklearn.model_selection import GridSearchCV,RandomizedSearchCV\n",
        "from scipy.stats import randint\n",
        "\n",
        "# Metrics\n",
        "from sklearn.metrics import mean_absolute_error as MAE\n",
        "from sklearn.metrics import mean_squared_error as MSE \n",
        "from sklearn.metrics import accuracy_score\n",
        "from sklearn.model_selection import cross_val_score\n",
        "from sklearn.metrics import classification_report\n",
        "\n",
        "# Machine learning model\n",
        "from sklearn.ensemble import GradientBoostingClassifier\n",
        "from sklearn.ensemble import RandomForestClassifier\n",
        "from xgboost import XGBClassifier\n",
        "from sklearn.neighbors import KNeighborsClassifier\n",
        "from sklearn.ensemble import AdaBoostClassifier\n",
        "from sklearn.tree import DecisionTreeClassifier\n",
        "import lightgbm as lgb"
      ]
    },
    {
      "cell_type": "code",
      "execution_count": null,
      "metadata": {
        "colab": {
          "base_uri": "https://localhost:8080/"
        },
        "id": "Emm85ZYQbg4a",
        "outputId": "e196513f-6267-49fd-a375-36d6e19b0892"
      },
      "outputs": [
        {
          "name": "stdout",
          "output_type": "stream",
          "text": [
            "Drive already mounted at /content/gdrive; to attempt to forcibly remount, call drive.mount(\"/content/gdrive\", force_remount=True).\n"
          ]
        }
      ],
      "source": [
        "from google.colab import drive\n",
        "drive.mount('/content/gdrive')"
      ]
    },
    {
      "cell_type": "markdown",
      "metadata": {
        "id": "RnLzjtfbcCrz"
      },
      "source": [
        "# GET AND ORGANIZE DATA"
      ]
    },
    {
      "cell_type": "code",
      "execution_count": null,
      "metadata": {
        "colab": {
          "base_uri": "https://localhost:8080/",
          "height": 93,
          "resources": {
            "http://localhost:8080/nbextensions/google.colab/files.js": {
              "data": "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",
              "headers": [
                [
                  "content-type",
                  "application/javascript"
                ]
              ],
              "ok": true,
              "status": 200,
              "status_text": ""
            }
          }
        },
        "id": "bvFe3yzXcG4-",
        "outputId": "ec49a4c6-2514-4acb-a2c3-d1d4505de0fb"
      },
      "outputs": [
        {
          "data": {
            "text/html": [
              "\n",
              "     <input type=\"file\" id=\"files-e285107b-3be7-473d-aa60-3677c329dd41\" name=\"files[]\" multiple disabled\n",
              "        style=\"border:none\" />\n",
              "     <output id=\"result-e285107b-3be7-473d-aa60-3677c329dd41\">\n",
              "      Upload widget is only available when the cell has been executed in the\n",
              "      current browser session. Please rerun this cell to enable.\n",
              "      </output>\n",
              "      <script src=\"/nbextensions/google.colab/files.js\"></script> "
            ],
            "text/plain": [
              "<IPython.core.display.HTML object>"
            ]
          },
          "metadata": {},
          "output_type": "display_data"
        },
        {
          "name": "stdout",
          "output_type": "stream",
          "text": [
            "Saving kaggle.json to kaggle.json\n"
          ]
        },
        {
          "data": {
            "text/plain": [
              "{'kaggle.json': b'{\"username\":\"vukimhuong\",\"key\":\"7c4009a9db4a8ee3f17c8132606cfb37\"}'}"
            ]
          },
          "execution_count": 5,
          "metadata": {},
          "output_type": "execute_result"
        }
      ],
      "source": [
        "# Now upload the file \"kaggle.json\" file\n",
        "from google.colab import files\n",
        "files.upload()"
      ]
    },
    {
      "cell_type": "code",
      "execution_count": null,
      "metadata": {
        "colab": {
          "base_uri": "https://localhost:8080/"
        },
        "id": "J7nIOCQ8cJz9",
        "outputId": "306b2770-9f2f-4603-9d39-964582984b81"
      },
      "outputs": [
        {
          "name": "stdout",
          "output_type": "stream",
          "text": [
            "Collecting kaggle\n",
            "  Using cached kaggle-1.5.12-py3-none-any.whl\n",
            "Installing collected packages: kaggle\n",
            "  Attempting uninstall: kaggle\n",
            "    Found existing installation: kaggle 1.5.12\n",
            "    Uninstalling kaggle-1.5.12:\n",
            "      Successfully uninstalled kaggle-1.5.12\n",
            "Successfully installed kaggle-1.5.12\n",
            "summer-products-and-sales-in-ecommerce-wish.zip: Skipping, found more recently modified local copy (use --force to force download)\n",
            "replace /content/MyDrive/DATASET/SUMMERS_PRODUCTS/keywords-niches_2021-04/niche/aging.csv? [y]es, [n]o, [A]ll, [N]one, [r]ename: "
          ]
        }
      ],
      "source": [
        "# Install kaggle package\n",
        "!pip install --upgrade --force-reinstall --no-deps kaggle\n",
        "\n",
        "# Ensure kaggle.json is in the location ~/.kaggle/kaggle.json to use the API.\n",
        "!mkdir -p ~/.kaggle\n",
        "!mv kaggle.json ~/.kaggle/\n",
        "!chmod 600 ~/.kaggle/kaggle.json\n",
        "\n",
        "# Use with option -p to choose the destination\n",
        "!kaggle datasets download -d jmmvutu/summer-products-and-sales-in-ecommerce-wish -p /content/MyDrive/DATASET/SUMMERS_PRODUCTS\n",
        "\n",
        "# Now you can Unzip it!\n",
        "!unzip -q /content/MyDrive/DATASET/SUMMERS_PRODUCTS/summer-products-and-sales-in-ecommerce-wish.zip -d /content/MyDrive/DATASET/SUMMERS_PRODUCTS"
      ]
    },
    {
      "cell_type": "markdown",
      "metadata": {
        "id": "mSwNFz-ldwqN"
      },
      "source": [
        "# EXPLORE DATASET"
      ]
    },
    {
      "cell_type": "markdown",
      "metadata": {
        "id": "-FnurtL5GaGq"
      },
      "source": [
        "## Overview"
      ]
    },
    {
      "cell_type": "code",
      "execution_count": null,
      "metadata": {
        "id": "MgzAvy3md85E"
      },
      "outputs": [],
      "source": [
        "# Load the csv file \n",
        "summer_1 = pd.read_csv('/content/MyDrive/DATASET/SUMMERS_PRODUCTS/keywords-popular_2021-04/mainstream/summer.csv')\n",
        "df_2020 = pd.read_csv('/content/MyDrive/DATASET/SUMMERS_PRODUCTS/keywords-popular_2021-04/mainstream/2020.csv')\n",
        "df_2021 = pd.read_csv('/content/MyDrive/DATASET/SUMMERS_PRODUCTS/keywords-popular_2021-04/mainstream/2021.csv')\n",
        "bodysuit = pd.read_csv('/content/MyDrive/DATASET/SUMMERS_PRODUCTS/keywords-popular_2021-04/mainstream/bodysuit.csv')\n",
        "dress = pd.read_csv('/content/MyDrive/DATASET/SUMMERS_PRODUCTS/keywords-popular_2021-04/mainstream/dress.csv')\n",
        "beachwear = pd.read_csv('/content/MyDrive/DATASET/SUMMERS_PRODUCTS/keywords-popular_2021-04/mainstream/beachwear.csv')\n",
        "wear = pd.read_csv('/content/MyDrive/DATASET/SUMMERS_PRODUCTS/keywords-popular_2021-04/mainstream/wear.csv')\n",
        "boot = pd.read_csv('/content/MyDrive/DATASET/SUMMERS_PRODUCTS/keywords-popular_2021-04/mainstream/boot.csv')\n",
        "summer = pd.concat([summer_1,df_2020, df_2021,\n",
        "                    bodysuit, dress,\n",
        "                    beachwear, wear,boot], axis=0)"
      ]
    },
    {
      "cell_type": "code",
      "execution_count": null,
      "metadata": {
        "colab": {
          "base_uri": "https://localhost:8080/"
        },
        "id": "KYVi8O8FcoDN",
        "outputId": "e2c0b6b2-8954-4d94-9870-ff5a16986eaf"
      },
      "outputs": [
        {
          "name": "stdout",
          "output_type": "stream",
          "text": [
            "<class 'pandas.core.frame.DataFrame'>\n",
            "Int64Index: 7206 entries, 0 to 897\n",
            "Data columns (total 44 columns):\n",
            " #   Column                               Non-Null Count  Dtype  \n",
            "---  ------                               --------------  -----  \n",
            " 0   title                                7189 non-null   object \n",
            " 1   title_orig                           6536 non-null   object \n",
            " 2   discount_price                       6536 non-null   float64\n",
            " 3   discount_price_currency              6536 non-null   object \n",
            " 4   retail_price                         6536 non-null   float64\n",
            " 5   retail_price_currency                6536 non-null   object \n",
            " 6   discount_price_in_original_currency  6536 non-null   float64\n",
            " 7   nb_cart_orders_approx                6536 non-null   float64\n",
            " 8   nb_units_purchased_approx            0 non-null      float64\n",
            " 9   uses_ad_boosts                       0 non-null      float64\n",
            " 10  rating                               6536 non-null   float64\n",
            " 11  rating_count                         6536 non-null   float64\n",
            " 12  rating_five_count                    5131 non-null   float64\n",
            " 13  rating_four_count                    5131 non-null   float64\n",
            " 14  rating_three_count                   5131 non-null   float64\n",
            " 15  rating_two_count                     5131 non-null   float64\n",
            " 16  rating_one_count                     5131 non-null   float64\n",
            " 17  badges_count                         0 non-null      float64\n",
            " 18  badge_local_product                  0 non-null      float64\n",
            " 19  badge_product_quality                0 non-null      float64\n",
            " 20  badge_fast_shipping                  0 non-null      float64\n",
            " 21  tags                                 0 non-null      float64\n",
            " 22  product_color                        5419 non-null   object \n",
            " 23  product_variation_size_id            5879 non-null   object \n",
            " 24  product_variation_inventory          6536 non-null   float64\n",
            " 25  shipping_option_name                 6536 non-null   object \n",
            " 26  shipping_option_price                6536 non-null   float64\n",
            " 27  shipping_is_express                  6536 non-null   object \n",
            " 28  countries_shipped_to                 0 non-null      float64\n",
            " 29  inventory_total                      6536 non-null   float64\n",
            " 30  has_urgency_banner                   1648 non-null   object \n",
            " 31  urgency_text                         1648 non-null   object \n",
            " 32  origin_country                       6527 non-null   object \n",
            " 33  merchant_title                       6536 non-null   object \n",
            " 34  merchant_name                        6534 non-null   object \n",
            " 35  merchant_info_subtitle               6475 non-null   object \n",
            " 36  merchant_rating_count                6536 non-null   float64\n",
            " 37  merchant_rating                      6536 non-null   float64\n",
            " 38  merchant_id                          6536 non-null   object \n",
            " 39  merchant_has_profile_picture         0 non-null      float64\n",
            " 40  merchant_profile_picture             0 non-null      float64\n",
            " 41  product_url                          7206 non-null   object \n",
            " 42  product_picture                      6536 non-null   object \n",
            " 43  product_id                           7206 non-null   object \n",
            "dtypes: float64(26), object(18)\n",
            "memory usage: 2.5+ MB\n"
          ]
        }
      ],
      "source": [
        "summer.info()"
      ]
    },
    {
      "cell_type": "code",
      "execution_count": null,
      "metadata": {
        "colab": {
          "base_uri": "https://localhost:8080/"
        },
        "id": "NXD3dRAy2B7-",
        "outputId": "dfb2ae96-e5c3-4db8-d8e1-53f546315147"
      },
      "outputs": [
        {
          "data": {
            "text/html": [
              "\n",
              "  <div id=\"df-1364fa8b-d079-485e-9cd0-d5617dd00f85\">\n",
              "    <div class=\"colab-df-container\">\n",
              "      <div>\n",
              "<style scoped>\n",
              "    .dataframe tbody tr th:only-of-type {\n",
              "        vertical-align: middle;\n",
              "    }\n",
              "\n",
              "    .dataframe tbody tr th {\n",
              "        vertical-align: top;\n",
              "    }\n",
              "\n",
              "    .dataframe thead th {\n",
              "        text-align: right;\n",
              "    }\n",
              "</style>\n",
              "<table border=\"1\" class=\"dataframe\">\n",
              "  <thead>\n",
              "    <tr style=\"text-align: right;\">\n",
              "      <th></th>\n",
              "      <th>discount_price</th>\n",
              "      <th>retail_price</th>\n",
              "      <th>discount_price_in_original_currency</th>\n",
              "      <th>nb_cart_orders_approx</th>\n",
              "      <th>nb_units_purchased_approx</th>\n",
              "      <th>uses_ad_boosts</th>\n",
              "      <th>rating</th>\n",
              "      <th>rating_count</th>\n",
              "      <th>rating_five_count</th>\n",
              "      <th>rating_four_count</th>\n",
              "      <th>rating_three_count</th>\n",
              "      <th>rating_two_count</th>\n",
              "      <th>rating_one_count</th>\n",
              "      <th>badges_count</th>\n",
              "      <th>badge_local_product</th>\n",
              "      <th>badge_product_quality</th>\n",
              "      <th>badge_fast_shipping</th>\n",
              "      <th>tags</th>\n",
              "      <th>product_variation_inventory</th>\n",
              "      <th>shipping_option_price</th>\n",
              "      <th>countries_shipped_to</th>\n",
              "      <th>inventory_total</th>\n",
              "      <th>merchant_rating_count</th>\n",
              "      <th>merchant_rating</th>\n",
              "      <th>merchant_has_profile_picture</th>\n",
              "      <th>merchant_profile_picture</th>\n",
              "    </tr>\n",
              "  </thead>\n",
              "  <tbody>\n",
              "    <tr>\n",
              "      <th>count</th>\n",
              "      <td>6536.000000</td>\n",
              "      <td>6536.000000</td>\n",
              "      <td>6536.000000</td>\n",
              "      <td>6536.000000</td>\n",
              "      <td>0.0</td>\n",
              "      <td>0.0</td>\n",
              "      <td>6536.000000</td>\n",
              "      <td>6536.000000</td>\n",
              "      <td>5131.000000</td>\n",
              "      <td>5131.000000</td>\n",
              "      <td>5131.000000</td>\n",
              "      <td>5131.000000</td>\n",
              "      <td>5131.000000</td>\n",
              "      <td>0.0</td>\n",
              "      <td>0.0</td>\n",
              "      <td>0.0</td>\n",
              "      <td>0.0</td>\n",
              "      <td>0.0</td>\n",
              "      <td>6536.000000</td>\n",
              "      <td>6536.000000</td>\n",
              "      <td>0.0</td>\n",
              "      <td>6536.000000</td>\n",
              "      <td>6.536000e+03</td>\n",
              "      <td>6536.000000</td>\n",
              "      <td>0.0</td>\n",
              "      <td>0.0</td>\n",
              "    </tr>\n",
              "    <tr>\n",
              "      <th>mean</th>\n",
              "      <td>33.614357</td>\n",
              "      <td>56.523109</td>\n",
              "      <td>39.987078</td>\n",
              "      <td>1447.454865</td>\n",
              "      <td>NaN</td>\n",
              "      <td>NaN</td>\n",
              "      <td>4.193478</td>\n",
              "      <td>324.587209</td>\n",
              "      <td>211.994933</td>\n",
              "      <td>78.435977</td>\n",
              "      <td>53.974079</td>\n",
              "      <td>25.311050</td>\n",
              "      <td>43.751510</td>\n",
              "      <td>NaN</td>\n",
              "      <td>NaN</td>\n",
              "      <td>NaN</td>\n",
              "      <td>NaN</td>\n",
              "      <td>NaN</td>\n",
              "      <td>35.521879</td>\n",
              "      <td>4.902552</td>\n",
              "      <td>NaN</td>\n",
              "      <td>47.827570</td>\n",
              "      <td>1.669549e+04</td>\n",
              "      <td>4.115056</td>\n",
              "      <td>NaN</td>\n",
              "      <td>NaN</td>\n",
              "    </tr>\n",
              "    <tr>\n",
              "      <th>std</th>\n",
              "      <td>358.672215</td>\n",
              "      <td>376.880289</td>\n",
              "      <td>434.850552</td>\n",
              "      <td>5298.057110</td>\n",
              "      <td>NaN</td>\n",
              "      <td>NaN</td>\n",
              "      <td>0.644707</td>\n",
              "      <td>1118.488408</td>\n",
              "      <td>633.589423</td>\n",
              "      <td>241.991963</td>\n",
              "      <td>182.351585</td>\n",
              "      <td>88.939546</td>\n",
              "      <td>141.122645</td>\n",
              "      <td>NaN</td>\n",
              "      <td>NaN</td>\n",
              "      <td>NaN</td>\n",
              "      <td>NaN</td>\n",
              "      <td>NaN</td>\n",
              "      <td>20.645501</td>\n",
              "      <td>4.154193</td>\n",
              "      <td>NaN</td>\n",
              "      <td>9.117348</td>\n",
              "      <td>7.598008e+04</td>\n",
              "      <td>0.285625</td>\n",
              "      <td>NaN</td>\n",
              "      <td>NaN</td>\n",
              "    </tr>\n",
              "    <tr>\n",
              "      <th>min</th>\n",
              "      <td>0.000000</td>\n",
              "      <td>0.000000</td>\n",
              "      <td>0.000000</td>\n",
              "      <td>0.000000</td>\n",
              "      <td>NaN</td>\n",
              "      <td>NaN</td>\n",
              "      <td>1.000000</td>\n",
              "      <td>0.000000</td>\n",
              "      <td>0.000000</td>\n",
              "      <td>0.000000</td>\n",
              "      <td>0.000000</td>\n",
              "      <td>0.000000</td>\n",
              "      <td>0.000000</td>\n",
              "      <td>NaN</td>\n",
              "      <td>NaN</td>\n",
              "      <td>NaN</td>\n",
              "      <td>NaN</td>\n",
              "      <td>NaN</td>\n",
              "      <td>0.000000</td>\n",
              "      <td>0.000000</td>\n",
              "      <td>NaN</td>\n",
              "      <td>1.000000</td>\n",
              "      <td>0.000000e+00</td>\n",
              "      <td>1.000000</td>\n",
              "      <td>NaN</td>\n",
              "      <td>NaN</td>\n",
              "    </tr>\n",
              "    <tr>\n",
              "      <th>25%</th>\n",
              "      <td>7.000000</td>\n",
              "      <td>8.000000</td>\n",
              "      <td>8.000000</td>\n",
              "      <td>10.000000</td>\n",
              "      <td>NaN</td>\n",
              "      <td>NaN</td>\n",
              "      <td>3.796474</td>\n",
              "      <td>2.000000</td>\n",
              "      <td>9.000000</td>\n",
              "      <td>3.000000</td>\n",
              "      <td>2.000000</td>\n",
              "      <td>0.000000</td>\n",
              "      <td>1.000000</td>\n",
              "      <td>NaN</td>\n",
              "      <td>NaN</td>\n",
              "      <td>NaN</td>\n",
              "      <td>NaN</td>\n",
              "      <td>NaN</td>\n",
              "      <td>10.000000</td>\n",
              "      <td>2.000000</td>\n",
              "      <td>NaN</td>\n",
              "      <td>50.000000</td>\n",
              "      <td>5.880000e+02</td>\n",
              "      <td>3.941833</td>\n",
              "      <td>NaN</td>\n",
              "      <td>NaN</td>\n",
              "    </tr>\n",
              "    <tr>\n",
              "      <th>50%</th>\n",
              "      <td>11.000000</td>\n",
              "      <td>15.000000</td>\n",
              "      <td>13.000000</td>\n",
              "      <td>10.000000</td>\n",
              "      <td>NaN</td>\n",
              "      <td>NaN</td>\n",
              "      <td>4.171429</td>\n",
              "      <td>33.000000</td>\n",
              "      <td>36.000000</td>\n",
              "      <td>12.000000</td>\n",
              "      <td>7.000000</td>\n",
              "      <td>3.000000</td>\n",
              "      <td>7.000000</td>\n",
              "      <td>NaN</td>\n",
              "      <td>NaN</td>\n",
              "      <td>NaN</td>\n",
              "      <td>NaN</td>\n",
              "      <td>NaN</td>\n",
              "      <td>50.000000</td>\n",
              "      <td>3.000000</td>\n",
              "      <td>NaN</td>\n",
              "      <td>50.000000</td>\n",
              "      <td>2.484000e+03</td>\n",
              "      <td>4.123006</td>\n",
              "      <td>NaN</td>\n",
              "      <td>NaN</td>\n",
              "    </tr>\n",
              "    <tr>\n",
              "      <th>75%</th>\n",
              "      <td>19.000000</td>\n",
              "      <td>36.000000</td>\n",
              "      <td>20.000000</td>\n",
              "      <td>1000.000000</td>\n",
              "      <td>NaN</td>\n",
              "      <td>NaN</td>\n",
              "      <td>4.893939</td>\n",
              "      <td>195.000000</td>\n",
              "      <td>154.000000</td>\n",
              "      <td>54.000000</td>\n",
              "      <td>35.000000</td>\n",
              "      <td>16.000000</td>\n",
              "      <td>31.000000</td>\n",
              "      <td>NaN</td>\n",
              "      <td>NaN</td>\n",
              "      <td>NaN</td>\n",
              "      <td>NaN</td>\n",
              "      <td>NaN</td>\n",
              "      <td>50.000000</td>\n",
              "      <td>6.000000</td>\n",
              "      <td>NaN</td>\n",
              "      <td>50.000000</td>\n",
              "      <td>1.092250e+04</td>\n",
              "      <td>4.277513</td>\n",
              "      <td>NaN</td>\n",
              "      <td>NaN</td>\n",
              "    </tr>\n",
              "    <tr>\n",
              "      <th>max</th>\n",
              "      <td>12256.000000</td>\n",
              "      <td>12256.000000</td>\n",
              "      <td>14859.000000</td>\n",
              "      <td>100000.000000</td>\n",
              "      <td>NaN</td>\n",
              "      <td>NaN</td>\n",
              "      <td>5.000000</td>\n",
              "      <td>26052.000000</td>\n",
              "      <td>13885.000000</td>\n",
              "      <td>4618.000000</td>\n",
              "      <td>3755.000000</td>\n",
              "      <td>2041.000000</td>\n",
              "      <td>2768.000000</td>\n",
              "      <td>NaN</td>\n",
              "      <td>NaN</td>\n",
              "      <td>NaN</td>\n",
              "      <td>NaN</td>\n",
              "      <td>NaN</td>\n",
              "      <td>50.000000</td>\n",
              "      <td>80.000000</td>\n",
              "      <td>NaN</td>\n",
              "      <td>50.000000</td>\n",
              "      <td>3.464509e+06</td>\n",
              "      <td>5.000000</td>\n",
              "      <td>NaN</td>\n",
              "      <td>NaN</td>\n",
              "    </tr>\n",
              "  </tbody>\n",
              "</table>\n",
              "</div>\n",
              "      <button class=\"colab-df-convert\" onclick=\"convertToInteractive('df-1364fa8b-d079-485e-9cd0-d5617dd00f85')\"\n",
              "              title=\"Convert this dataframe to an interactive table.\"\n",
              "              style=\"display:none;\">\n",
              "        \n",
              "  <svg xmlns=\"http://www.w3.org/2000/svg\" height=\"24px\"viewBox=\"0 0 24 24\"\n",
              "       width=\"24px\">\n",
              "    <path d=\"M0 0h24v24H0V0z\" fill=\"none\"/>\n",
              "    <path d=\"M18.56 5.44l.94 2.06.94-2.06 2.06-.94-2.06-.94-.94-2.06-.94 2.06-2.06.94zm-11 1L8.5 8.5l.94-2.06 2.06-.94-2.06-.94L8.5 2.5l-.94 2.06-2.06.94zm10 10l.94 2.06.94-2.06 2.06-.94-2.06-.94-.94-2.06-.94 2.06-2.06.94z\"/><path d=\"M17.41 7.96l-1.37-1.37c-.4-.4-.92-.59-1.43-.59-.52 0-1.04.2-1.43.59L10.3 9.45l-7.72 7.72c-.78.78-.78 2.05 0 2.83L4 21.41c.39.39.9.59 1.41.59.51 0 1.02-.2 1.41-.59l7.78-7.78 2.81-2.81c.8-.78.8-2.07 0-2.86zM5.41 20L4 18.59l7.72-7.72 1.47 1.35L5.41 20z\"/>\n",
              "  </svg>\n",
              "      </button>\n",
              "      \n",
              "  <style>\n",
              "    .colab-df-container {\n",
              "      display:flex;\n",
              "      flex-wrap:wrap;\n",
              "      gap: 12px;\n",
              "    }\n",
              "\n",
              "    .colab-df-convert {\n",
              "      background-color: #E8F0FE;\n",
              "      border: none;\n",
              "      border-radius: 50%;\n",
              "      cursor: pointer;\n",
              "      display: none;\n",
              "      fill: #1967D2;\n",
              "      height: 32px;\n",
              "      padding: 0 0 0 0;\n",
              "      width: 32px;\n",
              "    }\n",
              "\n",
              "    .colab-df-convert:hover {\n",
              "      background-color: #E2EBFA;\n",
              "      box-shadow: 0px 1px 2px rgba(60, 64, 67, 0.3), 0px 1px 3px 1px rgba(60, 64, 67, 0.15);\n",
              "      fill: #174EA6;\n",
              "    }\n",
              "\n",
              "    [theme=dark] .colab-df-convert {\n",
              "      background-color: #3B4455;\n",
              "      fill: #D2E3FC;\n",
              "    }\n",
              "\n",
              "    [theme=dark] .colab-df-convert:hover {\n",
              "      background-color: #434B5C;\n",
              "      box-shadow: 0px 1px 3px 1px rgba(0, 0, 0, 0.15);\n",
              "      filter: drop-shadow(0px 1px 2px rgba(0, 0, 0, 0.3));\n",
              "      fill: #FFFFFF;\n",
              "    }\n",
              "  </style>\n",
              "\n",
              "      <script>\n",
              "        const buttonEl =\n",
              "          document.querySelector('#df-1364fa8b-d079-485e-9cd0-d5617dd00f85 button.colab-df-convert');\n",
              "        buttonEl.style.display =\n",
              "          google.colab.kernel.accessAllowed ? 'block' : 'none';\n",
              "\n",
              "        async function convertToInteractive(key) {\n",
              "          const element = document.querySelector('#df-1364fa8b-d079-485e-9cd0-d5617dd00f85');\n",
              "          const dataTable =\n",
              "            await google.colab.kernel.invokeFunction('convertToInteractive',\n",
              "                                                     [key], {});\n",
              "          if (!dataTable) return;\n",
              "\n",
              "          const docLinkHtml = 'Like what you see? Visit the ' +\n",
              "            '<a target=\"_blank\" href=https://colab.research.google.com/notebooks/data_table.ipynb>data table notebook</a>'\n",
              "            + ' to learn more about interactive tables.';\n",
              "          element.innerHTML = '';\n",
              "          dataTable['output_type'] = 'display_data';\n",
              "          await google.colab.output.renderOutput(dataTable, element);\n",
              "          const docLink = document.createElement('div');\n",
              "          docLink.innerHTML = docLinkHtml;\n",
              "          element.appendChild(docLink);\n",
              "        }\n",
              "      </script>\n",
              "    </div>\n",
              "  </div>\n",
              "  "
            ],
            "text/plain": [
              "       discount_price  ...  merchant_profile_picture\n",
              "count     6536.000000  ...                       0.0\n",
              "mean        33.614357  ...                       NaN\n",
              "std        358.672215  ...                       NaN\n",
              "min          0.000000  ...                       NaN\n",
              "25%          7.000000  ...                       NaN\n",
              "50%         11.000000  ...                       NaN\n",
              "75%         19.000000  ...                       NaN\n",
              "max      12256.000000  ...                       NaN\n",
              "\n",
              "[8 rows x 26 columns]"
            ]
          },
          "execution_count": 11,
          "metadata": {},
          "output_type": "execute_result"
        }
      ],
      "source": [
        "summer.describe()"
      ]
    },
    {
      "cell_type": "code",
      "execution_count": null,
      "metadata": {
        "colab": {
          "base_uri": "https://localhost:8080/"
        },
        "id": "BY50s-yvJRWP",
        "outputId": "85947a42-8b67-424d-c009-215b498d6738"
      },
      "outputs": [
        {
          "data": {
            "text/plain": [
              "nb_cart_orders_approx                  1.000000\n",
              "rating_count                           0.900905\n",
              "rating_three_count                     0.894499\n",
              "rating_four_count                      0.885747\n",
              "rating_two_count                       0.866528\n",
              "rating_five_count                      0.865475\n",
              "rating_one_count                       0.840754\n",
              "merchant_rating_count                  0.221508\n",
              "inventory_total                        0.061007\n",
              "product_variation_inventory            0.017380\n",
              "merchant_rating                        0.005410\n",
              "discount_price_in_original_currency   -0.018988\n",
              "discount_price                        -0.019068\n",
              "retail_price                          -0.025071\n",
              "shipping_option_price                 -0.118660\n",
              "rating                                -0.119602\n",
              "nb_units_purchased_approx                   NaN\n",
              "uses_ad_boosts                              NaN\n",
              "badges_count                                NaN\n",
              "badge_local_product                         NaN\n",
              "badge_product_quality                       NaN\n",
              "badge_fast_shipping                         NaN\n",
              "tags                                        NaN\n",
              "countries_shipped_to                        NaN\n",
              "merchant_has_profile_picture                NaN\n",
              "merchant_profile_picture                    NaN\n",
              "Name: nb_cart_orders_approx, dtype: float64"
            ]
          },
          "execution_count": 12,
          "metadata": {},
          "output_type": "execute_result"
        }
      ],
      "source": [
        "corr_matrix = summer.corr()\n",
        "corr_matrix['nb_cart_orders_approx'].sort_values(ascending=False)"
      ]
    },
    {
      "cell_type": "code",
      "execution_count": null,
      "metadata": {
        "colab": {
          "base_uri": "https://localhost:8080/"
        },
        "id": "AR8pGOGhuXfS",
        "outputId": "e7add651-d187-4a77-83c7-d68a0b0099ca"
      },
      "outputs": [
        {
          "data": {
            "text/plain": [
              "(7206, 44)"
            ]
          },
          "execution_count": 13,
          "metadata": {},
          "output_type": "execute_result"
        }
      ],
      "source": [
        "summer.shape"
      ]
    },
    {
      "cell_type": "markdown",
      "metadata": {
        "id": "EFKd0ZP01q0S"
      },
      "source": [
        "- The data set has 7206 rows and 44 columns.\n",
        "- It has 18 categorical columns and 26 numerical columns."
      ]
    },
    {
      "cell_type": "code",
      "execution_count": null,
      "metadata": {
        "colab": {
          "base_uri": "https://localhost:8080/"
        },
        "id": "zl9mGNCM1PxP",
        "outputId": "aae1ab42-a8b8-461e-9953-dc2bd9457d0f"
      },
      "outputs": [
        {
          "data": {
            "text/html": [
              "\n",
              "  <div id=\"df-55fdf427-8bb1-49f6-9ed9-d1c980c61d1d\">\n",
              "    <div class=\"colab-df-container\">\n",
              "      <div>\n",
              "<style scoped>\n",
              "    .dataframe tbody tr th:only-of-type {\n",
              "        vertical-align: middle;\n",
              "    }\n",
              "\n",
              "    .dataframe tbody tr th {\n",
              "        vertical-align: top;\n",
              "    }\n",
              "\n",
              "    .dataframe thead th {\n",
              "        text-align: right;\n",
              "    }\n",
              "</style>\n",
              "<table border=\"1\" class=\"dataframe\">\n",
              "  <thead>\n",
              "    <tr style=\"text-align: right;\">\n",
              "      <th></th>\n",
              "      <th>title</th>\n",
              "      <th>title_orig</th>\n",
              "      <th>discount_price</th>\n",
              "      <th>discount_price_currency</th>\n",
              "      <th>retail_price</th>\n",
              "      <th>retail_price_currency</th>\n",
              "      <th>discount_price_in_original_currency</th>\n",
              "      <th>nb_cart_orders_approx</th>\n",
              "      <th>nb_units_purchased_approx</th>\n",
              "      <th>uses_ad_boosts</th>\n",
              "      <th>rating</th>\n",
              "      <th>rating_count</th>\n",
              "      <th>rating_five_count</th>\n",
              "      <th>rating_four_count</th>\n",
              "      <th>rating_three_count</th>\n",
              "      <th>rating_two_count</th>\n",
              "      <th>rating_one_count</th>\n",
              "      <th>badges_count</th>\n",
              "      <th>badge_local_product</th>\n",
              "      <th>badge_product_quality</th>\n",
              "      <th>badge_fast_shipping</th>\n",
              "      <th>tags</th>\n",
              "      <th>product_color</th>\n",
              "      <th>product_variation_size_id</th>\n",
              "      <th>product_variation_inventory</th>\n",
              "      <th>shipping_option_name</th>\n",
              "      <th>shipping_option_price</th>\n",
              "      <th>shipping_is_express</th>\n",
              "      <th>countries_shipped_to</th>\n",
              "      <th>inventory_total</th>\n",
              "      <th>has_urgency_banner</th>\n",
              "      <th>urgency_text</th>\n",
              "      <th>origin_country</th>\n",
              "      <th>merchant_title</th>\n",
              "      <th>merchant_name</th>\n",
              "      <th>merchant_info_subtitle</th>\n",
              "      <th>merchant_rating_count</th>\n",
              "      <th>merchant_rating</th>\n",
              "      <th>merchant_id</th>\n",
              "      <th>merchant_has_profile_picture</th>\n",
              "      <th>merchant_profile_picture</th>\n",
              "      <th>product_url</th>\n",
              "      <th>product_picture</th>\n",
              "      <th>product_id</th>\n",
              "    </tr>\n",
              "  </thead>\n",
              "  <tbody>\n",
              "    <tr>\n",
              "      <th>0</th>\n",
              "      <td>Simple Summer Beach Vacation Multicouche 925 S...</td>\n",
              "      <td>Simple Summer Beach Vacation Multilayer 925 St...</td>\n",
              "      <td>3.11</td>\n",
              "      <td>EUR</td>\n",
              "      <td>4.0</td>\n",
              "      <td>EUR</td>\n",
              "      <td>3.77</td>\n",
              "      <td>5000.0</td>\n",
              "      <td>NaN</td>\n",
              "      <td>NaN</td>\n",
              "      <td>4.020408</td>\n",
              "      <td>539.0</td>\n",
              "      <td>303.0</td>\n",
              "      <td>92.0</td>\n",
              "      <td>57.0</td>\n",
              "      <td>26.0</td>\n",
              "      <td>61.0</td>\n",
              "      <td>NaN</td>\n",
              "      <td>NaN</td>\n",
              "      <td>NaN</td>\n",
              "      <td>NaN</td>\n",
              "      <td>NaN</td>\n",
              "      <td>white</td>\n",
              "      <td>NaN</td>\n",
              "      <td>50.0</td>\n",
              "      <td>Livraison standard</td>\n",
              "      <td>1.0</td>\n",
              "      <td>False</td>\n",
              "      <td>NaN</td>\n",
              "      <td>50.0</td>\n",
              "      <td>NaN</td>\n",
              "      <td>NaN</td>\n",
              "      <td>CN</td>\n",
              "      <td>Angol</td>\n",
              "      <td>angol</td>\n",
              "      <td>94 % avis positifs (74,181 notes)</td>\n",
              "      <td>74181.0</td>\n",
              "      <td>4.476591</td>\n",
              "      <td>5a4f21f26ecee00df04a6d3c</td>\n",
              "      <td>NaN</td>\n",
              "      <td>NaN</td>\n",
              "      <td>https://www.wish.com/c/5d25b24efc082072e2af3471</td>\n",
              "      <td>https://canary.contestimg.wish.com/api/webimag...</td>\n",
              "      <td>5d25b24efc082072e2af3471</td>\n",
              "    </tr>\n",
              "    <tr>\n",
              "      <th>1</th>\n",
              "      <td>Bendis Women's Pattaya Lovely Long Summer Dres...</td>\n",
              "      <td>Bendis Women's Pattaya Lovely Long Summer Dres...</td>\n",
              "      <td>42.00</td>\n",
              "      <td>EUR</td>\n",
              "      <td>42.0</td>\n",
              "      <td>EUR</td>\n",
              "      <td>50.00</td>\n",
              "      <td>0.0</td>\n",
              "      <td>NaN</td>\n",
              "      <td>NaN</td>\n",
              "      <td>5.000000</td>\n",
              "      <td>0.0</td>\n",
              "      <td>NaN</td>\n",
              "      <td>NaN</td>\n",
              "      <td>NaN</td>\n",
              "      <td>NaN</td>\n",
              "      <td>NaN</td>\n",
              "      <td>NaN</td>\n",
              "      <td>NaN</td>\n",
              "      <td>NaN</td>\n",
              "      <td>NaN</td>\n",
              "      <td>NaN</td>\n",
              "      <td>red</td>\n",
              "      <td>free</td>\n",
              "      <td>2.0</td>\n",
              "      <td>Livraison standard</td>\n",
              "      <td>17.0</td>\n",
              "      <td>False</td>\n",
              "      <td>NaN</td>\n",
              "      <td>2.0</td>\n",
              "      <td>NaN</td>\n",
              "      <td>NaN</td>\n",
              "      <td>KR</td>\n",
              "      <td>atcmart</td>\n",
              "      <td>atcmart</td>\n",
              "      <td>67 % avis positifs (6 notes)</td>\n",
              "      <td>6.0</td>\n",
              "      <td>3.833333</td>\n",
              "      <td>5fe2119d5265268f81dec682</td>\n",
              "      <td>NaN</td>\n",
              "      <td>NaN</td>\n",
              "      <td>https://www.wish.com/c/5ff3dde8c34b780048c7b0b9</td>\n",
              "      <td>https://canary.contestimg.wish.com/api/webimag...</td>\n",
              "      <td>5ff3dde8c34b780048c7b0b9</td>\n",
              "    </tr>\n",
              "    <tr>\n",
              "      <th>2</th>\n",
              "      <td>2021 nouveau été hommes polos chemise été mode...</td>\n",
              "      <td>2021 New Summer Men's Polos Shirt Summer Fashi...</td>\n",
              "      <td>4.79</td>\n",
              "      <td>EUR</td>\n",
              "      <td>44.0</td>\n",
              "      <td>EUR</td>\n",
              "      <td>5.81</td>\n",
              "      <td>1000.0</td>\n",
              "      <td>NaN</td>\n",
              "      <td>NaN</td>\n",
              "      <td>3.571429</td>\n",
              "      <td>42.0</td>\n",
              "      <td>16.0</td>\n",
              "      <td>9.0</td>\n",
              "      <td>5.0</td>\n",
              "      <td>7.0</td>\n",
              "      <td>5.0</td>\n",
              "      <td>NaN</td>\n",
              "      <td>NaN</td>\n",
              "      <td>NaN</td>\n",
              "      <td>NaN</td>\n",
              "      <td>NaN</td>\n",
              "      <td>grey&amp;white</td>\n",
              "      <td>3xs</td>\n",
              "      <td>1.0</td>\n",
              "      <td>Livraison standard</td>\n",
              "      <td>1.0</td>\n",
              "      <td>False</td>\n",
              "      <td>NaN</td>\n",
              "      <td>50.0</td>\n",
              "      <td>NaN</td>\n",
              "      <td>NaN</td>\n",
              "      <td>US</td>\n",
              "      <td>DDFGb</td>\n",
              "      <td>ddfgb</td>\n",
              "      <td>(157 notes)</td>\n",
              "      <td>157.0</td>\n",
              "      <td>4.006369</td>\n",
              "      <td>5e695b405c6818fdeccfad33</td>\n",
              "      <td>NaN</td>\n",
              "      <td>NaN</td>\n",
              "      <td>https://www.wish.com/c/600687ecc9d71b0318749e95</td>\n",
              "      <td>https://canary.contestimg.wish.com/api/webimag...</td>\n",
              "      <td>600687ecc9d71b0318749e95</td>\n",
              "    </tr>\n",
              "    <tr>\n",
              "      <th>3</th>\n",
              "      <td>Gilet d'entraînement d'été en dentelle sans ma...</td>\n",
              "      <td>5 Colors Fashion Women Sleeveless Lace Tops Se...</td>\n",
              "      <td>5.00</td>\n",
              "      <td>EUR</td>\n",
              "      <td>5.0</td>\n",
              "      <td>EUR</td>\n",
              "      <td>6.00</td>\n",
              "      <td>10000.0</td>\n",
              "      <td>NaN</td>\n",
              "      <td>NaN</td>\n",
              "      <td>3.906273</td>\n",
              "      <td>1355.0</td>\n",
              "      <td>648.0</td>\n",
              "      <td>285.0</td>\n",
              "      <td>197.0</td>\n",
              "      <td>97.0</td>\n",
              "      <td>128.0</td>\n",
              "      <td>NaN</td>\n",
              "      <td>NaN</td>\n",
              "      <td>NaN</td>\n",
              "      <td>NaN</td>\n",
              "      <td>NaN</td>\n",
              "      <td>grey</td>\n",
              "      <td>s</td>\n",
              "      <td>50.0</td>\n",
              "      <td>Livraison standard</td>\n",
              "      <td>2.0</td>\n",
              "      <td>False</td>\n",
              "      <td>NaN</td>\n",
              "      <td>50.0</td>\n",
              "      <td>NaN</td>\n",
              "      <td>NaN</td>\n",
              "      <td>CN</td>\n",
              "      <td>Adrea boutique</td>\n",
              "      <td>adreaboutique</td>\n",
              "      <td>(15,616 notes)</td>\n",
              "      <td>15616.0</td>\n",
              "      <td>4.063140</td>\n",
              "      <td>55f7c64b3a698c4749f3bccf</td>\n",
              "      <td>NaN</td>\n",
              "      <td>NaN</td>\n",
              "      <td>https://www.wish.com/c/5bebc4a90269f2172b1af950</td>\n",
              "      <td>https://canary.contestimg.wish.com/api/webimag...</td>\n",
              "      <td>5bebc4a90269f2172b1af950</td>\n",
              "    </tr>\n",
              "    <tr>\n",
              "      <th>4</th>\n",
              "      <td>XS-8XL Plus La Taille Vêtements De Mode Robes ...</td>\n",
              "      <td>XS-8XL Plus Size Fashion Clothes Women's Dress...</td>\n",
              "      <td>4.69</td>\n",
              "      <td>EUR</td>\n",
              "      <td>5.0</td>\n",
              "      <td>EUR</td>\n",
              "      <td>5.68</td>\n",
              "      <td>1000.0</td>\n",
              "      <td>NaN</td>\n",
              "      <td>NaN</td>\n",
              "      <td>3.505495</td>\n",
              "      <td>273.0</td>\n",
              "      <td>103.0</td>\n",
              "      <td>54.0</td>\n",
              "      <td>46.0</td>\n",
              "      <td>18.0</td>\n",
              "      <td>52.0</td>\n",
              "      <td>NaN</td>\n",
              "      <td>NaN</td>\n",
              "      <td>NaN</td>\n",
              "      <td>NaN</td>\n",
              "      <td>NaN</td>\n",
              "      <td>yellow</td>\n",
              "      <td>xs</td>\n",
              "      <td>3.0</td>\n",
              "      <td>Livraison standard</td>\n",
              "      <td>1.0</td>\n",
              "      <td>False</td>\n",
              "      <td>NaN</td>\n",
              "      <td>50.0</td>\n",
              "      <td>NaN</td>\n",
              "      <td>NaN</td>\n",
              "      <td>CN</td>\n",
              "      <td>mynewsoul</td>\n",
              "      <td>mynewsoul</td>\n",
              "      <td>85 % avis positifs (2,034 notes)</td>\n",
              "      <td>2034.0</td>\n",
              "      <td>4.002950</td>\n",
              "      <td>580f361ff6978b4fdba4b112</td>\n",
              "      <td>NaN</td>\n",
              "      <td>NaN</td>\n",
              "      <td>https://www.wish.com/c/5e0450861f26761e566fee35</td>\n",
              "      <td>https://canary.contestimg.wish.com/api/webimag...</td>\n",
              "      <td>5e0450861f26761e566fee35</td>\n",
              "    </tr>\n",
              "  </tbody>\n",
              "</table>\n",
              "</div>\n",
              "      <button class=\"colab-df-convert\" onclick=\"convertToInteractive('df-55fdf427-8bb1-49f6-9ed9-d1c980c61d1d')\"\n",
              "              title=\"Convert this dataframe to an interactive table.\"\n",
              "              style=\"display:none;\">\n",
              "        \n",
              "  <svg xmlns=\"http://www.w3.org/2000/svg\" height=\"24px\"viewBox=\"0 0 24 24\"\n",
              "       width=\"24px\">\n",
              "    <path d=\"M0 0h24v24H0V0z\" fill=\"none\"/>\n",
              "    <path d=\"M18.56 5.44l.94 2.06.94-2.06 2.06-.94-2.06-.94-.94-2.06-.94 2.06-2.06.94zm-11 1L8.5 8.5l.94-2.06 2.06-.94-2.06-.94L8.5 2.5l-.94 2.06-2.06.94zm10 10l.94 2.06.94-2.06 2.06-.94-2.06-.94-.94-2.06-.94 2.06-2.06.94z\"/><path d=\"M17.41 7.96l-1.37-1.37c-.4-.4-.92-.59-1.43-.59-.52 0-1.04.2-1.43.59L10.3 9.45l-7.72 7.72c-.78.78-.78 2.05 0 2.83L4 21.41c.39.39.9.59 1.41.59.51 0 1.02-.2 1.41-.59l7.78-7.78 2.81-2.81c.8-.78.8-2.07 0-2.86zM5.41 20L4 18.59l7.72-7.72 1.47 1.35L5.41 20z\"/>\n",
              "  </svg>\n",
              "      </button>\n",
              "      \n",
              "  <style>\n",
              "    .colab-df-container {\n",
              "      display:flex;\n",
              "      flex-wrap:wrap;\n",
              "      gap: 12px;\n",
              "    }\n",
              "\n",
              "    .colab-df-convert {\n",
              "      background-color: #E8F0FE;\n",
              "      border: none;\n",
              "      border-radius: 50%;\n",
              "      cursor: pointer;\n",
              "      display: none;\n",
              "      fill: #1967D2;\n",
              "      height: 32px;\n",
              "      padding: 0 0 0 0;\n",
              "      width: 32px;\n",
              "    }\n",
              "\n",
              "    .colab-df-convert:hover {\n",
              "      background-color: #E2EBFA;\n",
              "      box-shadow: 0px 1px 2px rgba(60, 64, 67, 0.3), 0px 1px 3px 1px rgba(60, 64, 67, 0.15);\n",
              "      fill: #174EA6;\n",
              "    }\n",
              "\n",
              "    [theme=dark] .colab-df-convert {\n",
              "      background-color: #3B4455;\n",
              "      fill: #D2E3FC;\n",
              "    }\n",
              "\n",
              "    [theme=dark] .colab-df-convert:hover {\n",
              "      background-color: #434B5C;\n",
              "      box-shadow: 0px 1px 3px 1px rgba(0, 0, 0, 0.15);\n",
              "      filter: drop-shadow(0px 1px 2px rgba(0, 0, 0, 0.3));\n",
              "      fill: #FFFFFF;\n",
              "    }\n",
              "  </style>\n",
              "\n",
              "      <script>\n",
              "        const buttonEl =\n",
              "          document.querySelector('#df-55fdf427-8bb1-49f6-9ed9-d1c980c61d1d button.colab-df-convert');\n",
              "        buttonEl.style.display =\n",
              "          google.colab.kernel.accessAllowed ? 'block' : 'none';\n",
              "\n",
              "        async function convertToInteractive(key) {\n",
              "          const element = document.querySelector('#df-55fdf427-8bb1-49f6-9ed9-d1c980c61d1d');\n",
              "          const dataTable =\n",
              "            await google.colab.kernel.invokeFunction('convertToInteractive',\n",
              "                                                     [key], {});\n",
              "          if (!dataTable) return;\n",
              "\n",
              "          const docLinkHtml = 'Like what you see? Visit the ' +\n",
              "            '<a target=\"_blank\" href=https://colab.research.google.com/notebooks/data_table.ipynb>data table notebook</a>'\n",
              "            + ' to learn more about interactive tables.';\n",
              "          element.innerHTML = '';\n",
              "          dataTable['output_type'] = 'display_data';\n",
              "          await google.colab.output.renderOutput(dataTable, element);\n",
              "          const docLink = document.createElement('div');\n",
              "          docLink.innerHTML = docLinkHtml;\n",
              "          element.appendChild(docLink);\n",
              "        }\n",
              "      </script>\n",
              "    </div>\n",
              "  </div>\n",
              "  "
            ],
            "text/plain": [
              "                                               title  ...                product_id\n",
              "0  Simple Summer Beach Vacation Multicouche 925 S...  ...  5d25b24efc082072e2af3471\n",
              "1  Bendis Women's Pattaya Lovely Long Summer Dres...  ...  5ff3dde8c34b780048c7b0b9\n",
              "2  2021 nouveau été hommes polos chemise été mode...  ...  600687ecc9d71b0318749e95\n",
              "3  Gilet d'entraînement d'été en dentelle sans ma...  ...  5bebc4a90269f2172b1af950\n",
              "4  XS-8XL Plus La Taille Vêtements De Mode Robes ...  ...  5e0450861f26761e566fee35\n",
              "\n",
              "[5 rows x 44 columns]"
            ]
          },
          "execution_count": 14,
          "metadata": {},
          "output_type": "execute_result"
        }
      ],
      "source": [
        "summer.head()"
      ]
    },
    {
      "cell_type": "markdown",
      "metadata": {
        "id": "hiyRhmKtnsFV"
      },
      "source": [
        "## Clear data"
      ]
    },
    {
      "cell_type": "markdown",
      "metadata": {
        "id": "JQnODdQFqGqx"
      },
      "source": [
        "### Drop data"
      ]
    },
    {
      "cell_type": "markdown",
      "metadata": {
        "id": "CMJFSRNg5dbw"
      },
      "source": [
        "**Unlogic data - product has retail_price = 0**"
      ]
    },
    {
      "cell_type": "code",
      "execution_count": null,
      "metadata": {
        "id": "SJLtWFEU5cYe"
      },
      "outputs": [],
      "source": [
        "unlogic_data = list(summer[summer['retail_price'] == 0].index)"
      ]
    },
    {
      "cell_type": "code",
      "execution_count": null,
      "metadata": {
        "id": "mhn9ZyBV90LH"
      },
      "outputs": [],
      "source": [
        "summer.drop(index=unlogic_data, inplace=True)"
      ]
    },
    {
      "cell_type": "markdown",
      "metadata": {
        "id": "HRntfr6o-wQw"
      },
      "source": [
        "**The unnecessary data**"
      ]
    },
    {
      "cell_type": "markdown",
      "metadata": {
        "id": "bvguwYtghgON"
      },
      "source": [
        "Title"
      ]
    },
    {
      "cell_type": "code",
      "execution_count": null,
      "metadata": {
        "id": "gSFuCQvHhhvw"
      },
      "outputs": [],
      "source": [
        "summer.drop(columns=['title_orig', 'title'], inplace = True, axis = 1)"
      ]
    },
    {
      "cell_type": "markdown",
      "metadata": {
        "id": "rS4mIgEfd2uv"
      },
      "source": [
        "Price currency"
      ]
    },
    {
      "cell_type": "code",
      "execution_count": null,
      "metadata": {
        "id": "l8H8X0gD54ru"
      },
      "outputs": [],
      "source": [
        "summer.drop(['discount_price_currency', 'retail_price_currency',\n",
        "             'discount_price_in_original_currency'], inplace = True, axis = 1)"
      ]
    },
    {
      "cell_type": "markdown",
      "metadata": {
        "id": "PfBGorkmd0e3"
      },
      "source": [
        "Merchant"
      ]
    },
    {
      "cell_type": "code",
      "execution_count": null,
      "metadata": {
        "id": "Lg0vEIh7dMT-"
      },
      "outputs": [],
      "source": [
        "summer.drop(['merchant_has_profile_picture', 'merchant_id',\n",
        "             'merchant_title','merchant_name', 'merchant_info_subtitle'], inplace = True, axis = 1)"
      ]
    },
    {
      "cell_type": "markdown",
      "metadata": {
        "id": "6mE_OTJ1eM7u"
      },
      "source": [
        "Product"
      ]
    },
    {
      "cell_type": "code",
      "execution_count": null,
      "metadata": {
        "id": "tKICr8kWePYI"
      },
      "outputs": [],
      "source": [
        "summer.drop(['product_url','product_picture','product_id'], inplace = True, axis = 1)"
      ]
    },
    {
      "cell_type": "markdown",
      "metadata": {
        "id": "jsnDSDAcp7UC"
      },
      "source": [
        "Shipping"
      ]
    },
    {
      "cell_type": "code",
      "execution_count": null,
      "metadata": {
        "id": "fi5uekmrp9k7"
      },
      "outputs": [],
      "source": [
        "summer.drop(['shipping_is_express'], inplace = True, axis = 1)"
      ]
    },
    {
      "cell_type": "markdown",
      "metadata": {
        "id": "l2lpCiEQqU1Y"
      },
      "source": [
        "Rating"
      ]
    },
    {
      "cell_type": "code",
      "execution_count": null,
      "metadata": {
        "id": "VbbuBKK4wxT9"
      },
      "outputs": [],
      "source": [
        "summer.drop(['rating_count','rating', 'merchant_rating', 'merchant_rating_count',\n",
        "             'rating_five_count', 'rating_four_count', \n",
        "             'rating_three_count','rating_two_count', 'rating_one_count'], inplace = True, axis = 1)"
      ]
    },
    {
      "cell_type": "markdown",
      "metadata": {
        "id": "alJMOcX2qCOZ"
      },
      "source": [
        "### Missing values"
      ]
    },
    {
      "cell_type": "markdown",
      "metadata": {
        "id": "qisGxyJquDr5"
      },
      "source": [
        "**Data columns has Nan more than 200**"
      ]
    },
    {
      "cell_type": "code",
      "execution_count": null,
      "metadata": {
        "colab": {
          "base_uri": "https://localhost:8080/"
        },
        "id": "VvGKNSQ5cJwT",
        "outputId": "217204a3-a860-4985-a37e-2fdcd1df047a"
      },
      "outputs": [
        {
          "data": {
            "text/plain": [
              "discount_price                  667\n",
              "retail_price                    667\n",
              "nb_cart_orders_approx           667\n",
              "nb_units_purchased_approx      7150\n",
              "uses_ad_boosts                 7150\n",
              "badges_count                   7150\n",
              "badge_local_product            7150\n",
              "badge_product_quality          7150\n",
              "badge_fast_shipping            7150\n",
              "tags                           7150\n",
              "product_color                  1775\n",
              "product_variation_size_id      1320\n",
              "product_variation_inventory     667\n",
              "shipping_option_name            667\n",
              "shipping_option_price           667\n",
              "countries_shipped_to           7150\n",
              "inventory_total                 667\n",
              "has_urgency_banner             5515\n",
              "urgency_text                   5515\n",
              "origin_country                  676\n",
              "merchant_profile_picture       7150\n",
              "dtype: int64"
            ]
          },
          "execution_count": 23,
          "metadata": {},
          "output_type": "execute_result"
        }
      ],
      "source": [
        "summer.isna().sum()"
      ]
    },
    {
      "cell_type": "code",
      "execution_count": null,
      "metadata": {
        "id": "LbkhXO6_d7nZ"
      },
      "outputs": [],
      "source": [
        "drop_large_nan = list(summer.loc[:,summer.isna().sum()> 5000].columns)"
      ]
    },
    {
      "cell_type": "code",
      "execution_count": null,
      "metadata": {
        "colab": {
          "base_uri": "https://localhost:8080/"
        },
        "id": "p3Y5Q1XdeNmS",
        "outputId": "ea3c47ab-b79c-451f-b45e-b2daf460844d"
      },
      "outputs": [
        {
          "data": {
            "text/plain": [
              "['nb_units_purchased_approx',\n",
              " 'uses_ad_boosts',\n",
              " 'badges_count',\n",
              " 'badge_local_product',\n",
              " 'badge_product_quality',\n",
              " 'badge_fast_shipping',\n",
              " 'tags',\n",
              " 'countries_shipped_to',\n",
              " 'has_urgency_banner',\n",
              " 'urgency_text',\n",
              " 'merchant_profile_picture']"
            ]
          },
          "execution_count": 25,
          "metadata": {},
          "output_type": "execute_result"
        }
      ],
      "source": [
        "drop_large_nan"
      ]
    },
    {
      "cell_type": "code",
      "execution_count": null,
      "metadata": {
        "id": "dO6fgh_4sViw"
      },
      "outputs": [],
      "source": [
        "summer.drop(drop_large_nan,inplace=True, axis=1)"
      ]
    },
    {
      "cell_type": "code",
      "execution_count": null,
      "metadata": {
        "id": "nE5iLkK9rx5x"
      },
      "outputs": [],
      "source": [
        "def missing_data(summer):\n",
        "    palette = sns.color_palette(\"Blues\", n_colors = 30)\n",
        "    palette.reverse()\n",
        "    columns_missing = summer.columns[summer.isna().sum() >0]\n",
        "    missing_percentage = (summer[columns_missing].isna().sum() / summer.shape[0]).sort_values(ascending=False)*100\n",
        "    plt.figure(figsize=(30,10))\n",
        "    sns.set_theme(style=\"whitegrid\")\n",
        "    sns.barplot(x = missing_percentage, y = missing_percentage.index, palette=palette)\n",
        "    plt.title('% NULL values in each columns')"
      ]
    },
    {
      "cell_type": "code",
      "execution_count": null,
      "metadata": {
        "colab": {
          "base_uri": "https://localhost:8080/"
        },
        "id": "XPX0s5ZTr2_r",
        "outputId": "13e9b0b4-adca-4a13-bf8b-378688e37b6f"
      },
      "outputs": [
        {
          "data": {
            "image/png": "[encoded data removed]",
            "text/plain": [
              "<Figure size 2160x720 with 1 Axes>"
            ]
          },
          "metadata": {},
          "output_type": "display_data"
        }
      ],
      "source": [
        "missing_data(summer)"
      ]
    },
    {
      "cell_type": "markdown",
      "metadata": {
        "id": "7jgnYPsUhFo_"
      },
      "source": [
        "**Product_color**: fill NaN into Others"
      ]
    },
    {
      "cell_type": "code",
      "execution_count": null,
      "metadata": {
        "id": "y1NCudQuhBuv"
      },
      "outputs": [],
      "source": [
        "summer['product_color'].fillna(value = 'Others', inplace = True)"
      ]
    },
    {
      "cell_type": "markdown",
      "metadata": {
        "id": "HIuNgfglh3zt"
      },
      "source": [
        "**Product_variation_size_id** : fill NaN into Others"
      ]
    },
    {
      "cell_type": "code",
      "execution_count": null,
      "metadata": {
        "id": "gN5vh7cbiBDA"
      },
      "outputs": [],
      "source": [
        "summer['product_variation_size_id'].fillna(value='Others', inplace = True)"
      ]
    },
    {
      "cell_type": "markdown",
      "metadata": {
        "id": "DrkQIn9MiLms"
      },
      "source": [
        "**Origin_country** : fill NaN into Others"
      ]
    },
    {
      "cell_type": "code",
      "execution_count": null,
      "metadata": {
        "id": "u6K1eopBiRZy"
      },
      "outputs": [],
      "source": [
        "summer['origin_country'].fillna(value='Others', inplace = True)"
      ]
    },
    {
      "cell_type": "code",
      "execution_count": null,
      "metadata": {
        "colab": {
          "base_uri": "https://localhost:8080/"
        },
        "id": "MQGj-tI41zaZ",
        "outputId": "2035d67a-69b2-4eda-f8d2-df9f9ab8db67"
      },
      "outputs": [
        {
          "data": {
            "text/plain": [
              "discount_price                 667\n",
              "retail_price                   667\n",
              "nb_cart_orders_approx          667\n",
              "product_color                    0\n",
              "product_variation_size_id        0\n",
              "product_variation_inventory    667\n",
              "shipping_option_name           667\n",
              "shipping_option_price          667\n",
              "inventory_total                667\n",
              "origin_country                   0\n",
              "dtype: int64"
            ]
          },
          "execution_count": 32,
          "metadata": {},
          "output_type": "execute_result"
        }
      ],
      "source": [
        "summer.isna().sum()"
      ]
    },
    {
      "cell_type": "code",
      "execution_count": null,
      "metadata": {
        "id": "VqFv2cIT2NX4"
      },
      "outputs": [],
      "source": [
        "summer.dropna(axis=0, inplace=True)"
      ]
    },
    {
      "cell_type": "markdown",
      "metadata": {
        "id": "4F9cBPGDCDbw"
      },
      "source": [
        "### Drop duplicated"
      ]
    },
    {
      "cell_type": "code",
      "execution_count": null,
      "metadata": {
        "id": "t6fAYaYpfJQ1"
      },
      "outputs": [],
      "source": [
        "summer.drop_duplicates(inplace=True)"
      ]
    },
    {
      "cell_type": "markdown",
      "metadata": {
        "id": "uLlMdPKXn2Pf"
      },
      "source": [
        "### Detect oulier"
      ]
    },
    {
      "cell_type": "code",
      "execution_count": null,
      "metadata": {
        "colab": {
          "base_uri": "https://localhost:8080/"
        },
        "id": "vbMUwyv0fiAB",
        "outputId": "0ea43ad2-8359-4a9d-9537-7ef678368f2b"
      },
      "outputs": [
        {
          "data": {
            "text/html": [
              "\n",
              "  <div id=\"df-89a3ef88-e221-413a-978c-afc936433da3\">\n",
              "    <div class=\"colab-df-container\">\n",
              "      <div>\n",
              "<style scoped>\n",
              "    .dataframe tbody tr th:only-of-type {\n",
              "        vertical-align: middle;\n",
              "    }\n",
              "\n",
              "    .dataframe tbody tr th {\n",
              "        vertical-align: top;\n",
              "    }\n",
              "\n",
              "    .dataframe thead th {\n",
              "        text-align: right;\n",
              "    }\n",
              "</style>\n",
              "<table border=\"1\" class=\"dataframe\">\n",
              "  <thead>\n",
              "    <tr style=\"text-align: right;\">\n",
              "      <th></th>\n",
              "      <th>discount_price</th>\n",
              "      <th>retail_price</th>\n",
              "      <th>nb_cart_orders_approx</th>\n",
              "      <th>product_variation_inventory</th>\n",
              "      <th>shipping_option_price</th>\n",
              "      <th>inventory_total</th>\n",
              "    </tr>\n",
              "  </thead>\n",
              "  <tbody>\n",
              "    <tr>\n",
              "      <th>count</th>\n",
              "      <td>6065.000000</td>\n",
              "      <td>6065.000000</td>\n",
              "      <td>6065.000000</td>\n",
              "      <td>6065.000000</td>\n",
              "      <td>6065.000000</td>\n",
              "      <td>6065.000000</td>\n",
              "    </tr>\n",
              "    <tr>\n",
              "      <th>mean</th>\n",
              "      <td>35.222575</td>\n",
              "      <td>59.247657</td>\n",
              "      <td>1472.036439</td>\n",
              "      <td>34.796538</td>\n",
              "      <td>4.981284</td>\n",
              "      <td>47.712613</td>\n",
              "    </tr>\n",
              "    <tr>\n",
              "      <th>std</th>\n",
              "      <td>372.277130</td>\n",
              "      <td>389.793125</td>\n",
              "      <td>5421.925880</td>\n",
              "      <td>20.890021</td>\n",
              "      <td>4.233939</td>\n",
              "      <td>9.340118</td>\n",
              "    </tr>\n",
              "    <tr>\n",
              "      <th>min</th>\n",
              "      <td>0.720000</td>\n",
              "      <td>1.000000</td>\n",
              "      <td>0.000000</td>\n",
              "      <td>0.000000</td>\n",
              "      <td>0.000000</td>\n",
              "      <td>1.000000</td>\n",
              "    </tr>\n",
              "    <tr>\n",
              "      <th>25%</th>\n",
              "      <td>7.000000</td>\n",
              "      <td>8.000000</td>\n",
              "      <td>10.000000</td>\n",
              "      <td>9.000000</td>\n",
              "      <td>2.000000</td>\n",
              "      <td>50.000000</td>\n",
              "    </tr>\n",
              "    <tr>\n",
              "      <th>50%</th>\n",
              "      <td>11.000000</td>\n",
              "      <td>16.000000</td>\n",
              "      <td>10.000000</td>\n",
              "      <td>50.000000</td>\n",
              "      <td>3.000000</td>\n",
              "      <td>50.000000</td>\n",
              "    </tr>\n",
              "    <tr>\n",
              "      <th>75%</th>\n",
              "      <td>19.000000</td>\n",
              "      <td>39.000000</td>\n",
              "      <td>1000.000000</td>\n",
              "      <td>50.000000</td>\n",
              "      <td>7.000000</td>\n",
              "      <td>50.000000</td>\n",
              "    </tr>\n",
              "    <tr>\n",
              "      <th>max</th>\n",
              "      <td>12256.000000</td>\n",
              "      <td>12256.000000</td>\n",
              "      <td>100000.000000</td>\n",
              "      <td>50.000000</td>\n",
              "      <td>80.000000</td>\n",
              "      <td>50.000000</td>\n",
              "    </tr>\n",
              "  </tbody>\n",
              "</table>\n",
              "</div>\n",
              "      <button class=\"colab-df-convert\" onclick=\"convertToInteractive('df-89a3ef88-e221-413a-978c-afc936433da3')\"\n",
              "              title=\"Convert this dataframe to an interactive table.\"\n",
              "              style=\"display:none;\">\n",
              "        \n",
              "  <svg xmlns=\"http://www.w3.org/2000/svg\" height=\"24px\"viewBox=\"0 0 24 24\"\n",
              "       width=\"24px\">\n",
              "    <path d=\"M0 0h24v24H0V0z\" fill=\"none\"/>\n",
              "    <path d=\"M18.56 5.44l.94 2.06.94-2.06 2.06-.94-2.06-.94-.94-2.06-.94 2.06-2.06.94zm-11 1L8.5 8.5l.94-2.06 2.06-.94-2.06-.94L8.5 2.5l-.94 2.06-2.06.94zm10 10l.94 2.06.94-2.06 2.06-.94-2.06-.94-.94-2.06-.94 2.06-2.06.94z\"/><path d=\"M17.41 7.96l-1.37-1.37c-.4-.4-.92-.59-1.43-.59-.52 0-1.04.2-1.43.59L10.3 9.45l-7.72 7.72c-.78.78-.78 2.05 0 2.83L4 21.41c.39.39.9.59 1.41.59.51 0 1.02-.2 1.41-.59l7.78-7.78 2.81-2.81c.8-.78.8-2.07 0-2.86zM5.41 20L4 18.59l7.72-7.72 1.47 1.35L5.41 20z\"/>\n",
              "  </svg>\n",
              "      </button>\n",
              "      \n",
              "  <style>\n",
              "    .colab-df-container {\n",
              "      display:flex;\n",
              "      flex-wrap:wrap;\n",
              "      gap: 12px;\n",
              "    }\n",
              "\n",
              "    .colab-df-convert {\n",
              "      background-color: #E8F0FE;\n",
              "      border: none;\n",
              "      border-radius: 50%;\n",
              "      cursor: pointer;\n",
              "      display: none;\n",
              "      fill: #1967D2;\n",
              "      height: 32px;\n",
              "      padding: 0 0 0 0;\n",
              "      width: 32px;\n",
              "    }\n",
              "\n",
              "    .colab-df-convert:hover {\n",
              "      background-color: #E2EBFA;\n",
              "      box-shadow: 0px 1px 2px rgba(60, 64, 67, 0.3), 0px 1px 3px 1px rgba(60, 64, 67, 0.15);\n",
              "      fill: #174EA6;\n",
              "    }\n",
              "\n",
              "    [theme=dark] .colab-df-convert {\n",
              "      background-color: #3B4455;\n",
              "      fill: #D2E3FC;\n",
              "    }\n",
              "\n",
              "    [theme=dark] .colab-df-convert:hover {\n",
              "      background-color: #434B5C;\n",
              "      box-shadow: 0px 1px 3px 1px rgba(0, 0, 0, 0.15);\n",
              "      filter: drop-shadow(0px 1px 2px rgba(0, 0, 0, 0.3));\n",
              "      fill: #FFFFFF;\n",
              "    }\n",
              "  </style>\n",
              "\n",
              "      <script>\n",
              "        const buttonEl =\n",
              "          document.querySelector('#df-89a3ef88-e221-413a-978c-afc936433da3 button.colab-df-convert');\n",
              "        buttonEl.style.display =\n",
              "          google.colab.kernel.accessAllowed ? 'block' : 'none';\n",
              "\n",
              "        async function convertToInteractive(key) {\n",
              "          const element = document.querySelector('#df-89a3ef88-e221-413a-978c-afc936433da3');\n",
              "          const dataTable =\n",
              "            await google.colab.kernel.invokeFunction('convertToInteractive',\n",
              "                                                     [key], {});\n",
              "          if (!dataTable) return;\n",
              "\n",
              "          const docLinkHtml = 'Like what you see? Visit the ' +\n",
              "            '<a target=\"_blank\" href=https://colab.research.google.com/notebooks/data_table.ipynb>data table notebook</a>'\n",
              "            + ' to learn more about interactive tables.';\n",
              "          element.innerHTML = '';\n",
              "          dataTable['output_type'] = 'display_data';\n",
              "          await google.colab.output.renderOutput(dataTable, element);\n",
              "          const docLink = document.createElement('div');\n",
              "          docLink.innerHTML = docLinkHtml;\n",
              "          element.appendChild(docLink);\n",
              "        }\n",
              "      </script>\n",
              "    </div>\n",
              "  </div>\n",
              "  "
            ],
            "text/plain": [
              "       discount_price  retail_price  ...  shipping_option_price  inventory_total\n",
              "count     6065.000000   6065.000000  ...            6065.000000      6065.000000\n",
              "mean        35.222575     59.247657  ...               4.981284        47.712613\n",
              "std        372.277130    389.793125  ...               4.233939         9.340118\n",
              "min          0.720000      1.000000  ...               0.000000         1.000000\n",
              "25%          7.000000      8.000000  ...               2.000000        50.000000\n",
              "50%         11.000000     16.000000  ...               3.000000        50.000000\n",
              "75%         19.000000     39.000000  ...               7.000000        50.000000\n",
              "max      12256.000000  12256.000000  ...              80.000000        50.000000\n",
              "\n",
              "[8 rows x 6 columns]"
            ]
          },
          "execution_count": 35,
          "metadata": {},
          "output_type": "execute_result"
        }
      ],
      "source": [
        "summer.describe()"
      ]
    },
    {
      "cell_type": "markdown",
      "metadata": {
        "id": "YdlfBNoFoCDi"
      },
      "source": [
        "#### Discount price & retail_price"
      ]
    },
    {
      "cell_type": "code",
      "execution_count": null,
      "metadata": {
        "colab": {
          "base_uri": "https://localhost:8080/"
        },
        "id": "HgFMpKhMn_Q_",
        "outputId": "187d5794-7c58-4f1b-9813-3f5c3d8b01f3"
      },
      "outputs": [
        {
          "data": {
            "image/png": "[encoded data removed]",
            "text/plain": [
              "<Figure size 1440x720 with 2 Axes>"
            ]
          },
          "metadata": {},
          "output_type": "display_data"
        }
      ],
      "source": [
        "# Visualize with boxplot\n",
        "plt.subplots(2,3, figsize=(20,10))\n",
        "\n",
        "plt.subplot(121)\n",
        "summer['discount_price'].plot(kind='box')\n",
        "\n",
        "plt.subplot(122)\n",
        "summer['retail_price'].plot(kind='box')\n",
        "\n",
        "plt.show()"
      ]
    },
    {
      "cell_type": "code",
      "execution_count": null,
      "metadata": {
        "colab": {
          "base_uri": "https://localhost:8080/"
        },
        "id": "gcYMwQHui2Py",
        "outputId": "8be87f96-1075-4128-9e5e-52d57cf53ef4"
      },
      "outputs": [
        {
          "data": {
            "text/html": [
              "\n",
              "  <div id=\"df-8b742591-dde2-4ac6-a26a-c8df5fa4fb20\">\n",
              "    <div class=\"colab-df-container\">\n",
              "      <div>\n",
              "<style scoped>\n",
              "    .dataframe tbody tr th:only-of-type {\n",
              "        vertical-align: middle;\n",
              "    }\n",
              "\n",
              "    .dataframe tbody tr th {\n",
              "        vertical-align: top;\n",
              "    }\n",
              "\n",
              "    .dataframe thead th {\n",
              "        text-align: right;\n",
              "    }\n",
              "</style>\n",
              "<table border=\"1\" class=\"dataframe\">\n",
              "  <thead>\n",
              "    <tr style=\"text-align: right;\">\n",
              "      <th></th>\n",
              "      <th>discount_price</th>\n",
              "      <th>retail_price</th>\n",
              "      <th>nb_cart_orders_approx</th>\n",
              "      <th>product_color</th>\n",
              "      <th>product_variation_size_id</th>\n",
              "      <th>product_variation_inventory</th>\n",
              "      <th>shipping_option_name</th>\n",
              "      <th>shipping_option_price</th>\n",
              "      <th>inventory_total</th>\n",
              "      <th>origin_country</th>\n",
              "    </tr>\n",
              "  </thead>\n",
              "  <tbody>\n",
              "    <tr>\n",
              "      <th>0</th>\n",
              "      <td>3.11</td>\n",
              "      <td>4.0</td>\n",
              "      <td>5000.0</td>\n",
              "      <td>white</td>\n",
              "      <td>Others</td>\n",
              "      <td>50.0</td>\n",
              "      <td>Livraison standard</td>\n",
              "      <td>1.0</td>\n",
              "      <td>50.0</td>\n",
              "      <td>CN</td>\n",
              "    </tr>\n",
              "    <tr>\n",
              "      <th>1</th>\n",
              "      <td>42.00</td>\n",
              "      <td>42.0</td>\n",
              "      <td>0.0</td>\n",
              "      <td>red</td>\n",
              "      <td>free</td>\n",
              "      <td>2.0</td>\n",
              "      <td>Livraison standard</td>\n",
              "      <td>17.0</td>\n",
              "      <td>2.0</td>\n",
              "      <td>KR</td>\n",
              "    </tr>\n",
              "    <tr>\n",
              "      <th>2</th>\n",
              "      <td>4.79</td>\n",
              "      <td>44.0</td>\n",
              "      <td>1000.0</td>\n",
              "      <td>grey&amp;white</td>\n",
              "      <td>3xs</td>\n",
              "      <td>1.0</td>\n",
              "      <td>Livraison standard</td>\n",
              "      <td>1.0</td>\n",
              "      <td>50.0</td>\n",
              "      <td>US</td>\n",
              "    </tr>\n",
              "    <tr>\n",
              "      <th>3</th>\n",
              "      <td>5.00</td>\n",
              "      <td>5.0</td>\n",
              "      <td>10000.0</td>\n",
              "      <td>grey</td>\n",
              "      <td>s</td>\n",
              "      <td>50.0</td>\n",
              "      <td>Livraison standard</td>\n",
              "      <td>2.0</td>\n",
              "      <td>50.0</td>\n",
              "      <td>CN</td>\n",
              "    </tr>\n",
              "    <tr>\n",
              "      <th>4</th>\n",
              "      <td>4.69</td>\n",
              "      <td>5.0</td>\n",
              "      <td>1000.0</td>\n",
              "      <td>yellow</td>\n",
              "      <td>xs</td>\n",
              "      <td>3.0</td>\n",
              "      <td>Livraison standard</td>\n",
              "      <td>1.0</td>\n",
              "      <td>50.0</td>\n",
              "      <td>CN</td>\n",
              "    </tr>\n",
              "  </tbody>\n",
              "</table>\n",
              "</div>\n",
              "      <button class=\"colab-df-convert\" onclick=\"convertToInteractive('df-8b742591-dde2-4ac6-a26a-c8df5fa4fb20')\"\n",
              "              title=\"Convert this dataframe to an interactive table.\"\n",
              "              style=\"display:none;\">\n",
              "        \n",
              "  <svg xmlns=\"http://www.w3.org/2000/svg\" height=\"24px\"viewBox=\"0 0 24 24\"\n",
              "       width=\"24px\">\n",
              "    <path d=\"M0 0h24v24H0V0z\" fill=\"none\"/>\n",
              "    <path d=\"M18.56 5.44l.94 2.06.94-2.06 2.06-.94-2.06-.94-.94-2.06-.94 2.06-2.06.94zm-11 1L8.5 8.5l.94-2.06 2.06-.94-2.06-.94L8.5 2.5l-.94 2.06-2.06.94zm10 10l.94 2.06.94-2.06 2.06-.94-2.06-.94-.94-2.06-.94 2.06-2.06.94z\"/><path d=\"M17.41 7.96l-1.37-1.37c-.4-.4-.92-.59-1.43-.59-.52 0-1.04.2-1.43.59L10.3 9.45l-7.72 7.72c-.78.78-.78 2.05 0 2.83L4 21.41c.39.39.9.59 1.41.59.51 0 1.02-.2 1.41-.59l7.78-7.78 2.81-2.81c.8-.78.8-2.07 0-2.86zM5.41 20L4 18.59l7.72-7.72 1.47 1.35L5.41 20z\"/>\n",
              "  </svg>\n",
              "      </button>\n",
              "      \n",
              "  <style>\n",
              "    .colab-df-container {\n",
              "      display:flex;\n",
              "      flex-wrap:wrap;\n",
              "      gap: 12px;\n",
              "    }\n",
              "\n",
              "    .colab-df-convert {\n",
              "      background-color: #E8F0FE;\n",
              "      border: none;\n",
              "      border-radius: 50%;\n",
              "      cursor: pointer;\n",
              "      display: none;\n",
              "      fill: #1967D2;\n",
              "      height: 32px;\n",
              "      padding: 0 0 0 0;\n",
              "      width: 32px;\n",
              "    }\n",
              "\n",
              "    .colab-df-convert:hover {\n",
              "      background-color: #E2EBFA;\n",
              "      box-shadow: 0px 1px 2px rgba(60, 64, 67, 0.3), 0px 1px 3px 1px rgba(60, 64, 67, 0.15);\n",
              "      fill: #174EA6;\n",
              "    }\n",
              "\n",
              "    [theme=dark] .colab-df-convert {\n",
              "      background-color: #3B4455;\n",
              "      fill: #D2E3FC;\n",
              "    }\n",
              "\n",
              "    [theme=dark] .colab-df-convert:hover {\n",
              "      background-color: #434B5C;\n",
              "      box-shadow: 0px 1px 3px 1px rgba(0, 0, 0, 0.15);\n",
              "      filter: drop-shadow(0px 1px 2px rgba(0, 0, 0, 0.3));\n",
              "      fill: #FFFFFF;\n",
              "    }\n",
              "  </style>\n",
              "\n",
              "      <script>\n",
              "        const buttonEl =\n",
              "          document.querySelector('#df-8b742591-dde2-4ac6-a26a-c8df5fa4fb20 button.colab-df-convert');\n",
              "        buttonEl.style.display =\n",
              "          google.colab.kernel.accessAllowed ? 'block' : 'none';\n",
              "\n",
              "        async function convertToInteractive(key) {\n",
              "          const element = document.querySelector('#df-8b742591-dde2-4ac6-a26a-c8df5fa4fb20');\n",
              "          const dataTable =\n",
              "            await google.colab.kernel.invokeFunction('convertToInteractive',\n",
              "                                                     [key], {});\n",
              "          if (!dataTable) return;\n",
              "\n",
              "          const docLinkHtml = 'Like what you see? Visit the ' +\n",
              "            '<a target=\"_blank\" href=https://colab.research.google.com/notebooks/data_table.ipynb>data table notebook</a>'\n",
              "            + ' to learn more about interactive tables.';\n",
              "          element.innerHTML = '';\n",
              "          dataTable['output_type'] = 'display_data';\n",
              "          await google.colab.output.renderOutput(dataTable, element);\n",
              "          const docLink = document.createElement('div');\n",
              "          docLink.innerHTML = docLinkHtml;\n",
              "          element.appendChild(docLink);\n",
              "        }\n",
              "      </script>\n",
              "    </div>\n",
              "  </div>\n",
              "  "
            ],
            "text/plain": [
              "   discount_price  retail_price  ...  inventory_total origin_country\n",
              "0            3.11           4.0  ...             50.0             CN\n",
              "1           42.00          42.0  ...              2.0             KR\n",
              "2            4.79          44.0  ...             50.0             US\n",
              "3            5.00           5.0  ...             50.0             CN\n",
              "4            4.69           5.0  ...             50.0             CN\n",
              "\n",
              "[5 rows x 10 columns]"
            ]
          },
          "execution_count": 37,
          "metadata": {},
          "output_type": "execute_result"
        }
      ],
      "source": [
        "summer.head()"
      ]
    },
    {
      "cell_type": "markdown",
      "metadata": {
        "id": "q6lNkrsu5bAE"
      },
      "source": [
        "## Data engineering"
      ]
    },
    {
      "cell_type": "code",
      "execution_count": null,
      "metadata": {
        "id": "12ye7q4K6a9B"
      },
      "outputs": [],
      "source": [
        "summer['nb_cart_orders_approx'] = summer['nb_cart_orders_approx'].apply(lambda x: 100 if x <= 100 else x)"
      ]
    },
    {
      "cell_type": "code",
      "execution_count": null,
      "metadata": {
        "id": "l4cQ-hpb64o-"
      },
      "outputs": [],
      "source": [
        "colour_data = {\n",
        "       'white&blue': 'blue', 'tiffanyblue': 'blue', 'red&blue': 'blue', 'darkblue': 'blue', 'blue&stripe': 'blue',\n",
        "       'royalblue': 'blue', 'seablue': 'blue', 'cyan&blue': 'blue',\n",
        "       'oceanblue': 'blue', 'bone&blue': 'blue', 'aquablue': 'blue', \n",
        "       'bluesapphire': 'blue', 'turquoiseblue': 'blue', 'sailorblue': 'blue',\n",
        "       'transparent&blue': 'blue', 'blackblue': 'blue',\n",
        "       'whiteblue': 'blue',  'lakeblue' : 'blue',\n",
        "       'navyblue&white': 'blue', 'bluecellular': 'blue', 'bluesky': 'blue',\n",
        "        'blue&multicolor': 'blue',\n",
        "       'denimblue': 'blue', 'deepblue': 'blue', 'angelblue': 'blue', 'blue-green': 'blue',\n",
        "      'bluepenguin': 'blue', 'bluewash': 'blue', 'sapphireblue': 'blue',\n",
        "        'brightblue': 'blue', 'aquaticblue': 'blue',\n",
        "       'glacierblue': 'blue', 'tealblue': 'blue', 'navyblue/yellow': 'blue',\n",
        "       'blueplaid': 'blue', 'peacockblue': 'blue', \n",
        "       'babyblue': 'blue', 'multicolor&blue': 'blue',\n",
        "       'metallicpiping/bluefilter': 'blue',\n",
        "       'alaskablue': 'blue', 'gray&blue-green': 'blue', 'bluestripe': 'blue',\n",
        "       'beigelightblue': 'blue', 'queenblue': 'blue', 'bluediamond': 'blue', 'alaskanblue': 'blue',\n",
        "       'bluecar': 'blue', 'bellflowerblue': 'blue', 'bluegreen': 'blue', 'lightskyblue': 'blue',\n",
        "       'bluesilver': 'blue', 'bluestars': 'blue', 'bluegray': 'blue', 'blue&pink': 'blue',\n",
        "       'darkslateblue': 'blue', 'prussianblue': 'blue', \n",
        "       'grayblue': 'blue', 'blueberry': 'blue', 'acidblue': 'blue',\n",
        "    \n",
        "\n",
        "       'armygreen':'green', 'lightgreen':'green', 'blue&green':'green', 'green&blue':'green',\n",
        "       'yellow&green':'green', 'silver&green':'green', 'militarygreen':'green', 'darkgreen':'green',\n",
        "       'grassgreen':'green', 'clovergreen':'green', 'limegreen':'green', 'tealgreen':'green', 'mintgreen':'green',\n",
        "       'camouflagegreen':'green','armygreen&camouflage':'green',\n",
        "       'camouflage&armygreen':'green', 'greenbottle':'green', 'lakegreen':'green', 'brightgreen':'green',\n",
        "       'green&grey':'green', 'olivegreen':'green', 'green&green':'green', 'springgreen':'green',\n",
        "       'coolblack&green':'green', 'kellygreen':'green', 'green&rosered':'green',\n",
        "       'reflectivegreen/concrete':'green', 'oasisgreen':'green',\n",
        "       'green/white':'green', 'acidgreen':'green', 'greencamo':'green', 'hotpink&green':'green',\n",
        "       'applegreen':'green', 'pink&green&blue':'green', 'grey&green':'green',\n",
        "       'black&lightgreen':'green', 'turquoisegreen':'green', 'gray&blue-green':'green',\n",
        "       'darkarmygreen':'green', 'bluegreen':'green', 'charlestongreen':'green', 'purple&green':'green',\n",
        "       'green&purple':'green', 'fluorescentgreen':'green', 'green&red':'green', 'green&white':'green',\n",
        "       'green&brick':'green', 'sweetgreen/black':'green', 'green&silver':'green', 'bottlegreen':'green',\n",
        "       'forestgreen':'green', 'blue-green&red':'green', 'neongreen':'green', 'camogreen':'green',\n",
        "\n",
        "\n",
        "       'orange&yellow':'yellow', 'blue&yellow':'yellow', 'yellow&pink':'yellow',\n",
        "       'black&yellow':'yellow', 'yellow&green':'yellow', 'yellowgold':'yellow', 'lightyellow':'yellow',\n",
        "       'gold&yellow':'yellow', 'bananayellow':'yellow', 'yellowcamouflage':'yellow',\n",
        "       'darkyellow':'yellow', 'yellow/white':'yellow', 'yellow/gold':'yellow',\n",
        "       'white&yellow':'yellow', 'navyblue/yellow':'yellow', 'goldenyellow':'yellow',\n",
        "       'fluorescentyellow':'yellow', 'grey&yellow':'yellow', 'green&yellow':'yellow', 'bronzeyellow':'yellow',\n",
        "       'darkblue&yellow':'yellow', 'winered&yellow':'yellow', 'yellow&grey':'yellow', 'pink&yellow':'yellow',\n",
        "       'earthyellow':'yellow', 'white/yellow':'yellow',\n",
        "\n",
        "       'rosered':'red', 'multicolored':'red', 'winered':'red', 'red&blue':'red',\n",
        "       'red&black':'red', 'watermelonred':'red', 'darkred':'red', 'rubyred':'red', 'red&pink':'red',\n",
        "       'silver&red':'red', 'garnetred':'red', 'bordeauxred':'red', 'black&red':'red', 'mattered':'red',\n",
        "       'brickred':'red', 'red&white':'red', 'blue&red':'red', 'gold&red':'red', 'red&gold':'red',\n",
        "       'navy&red':'red', 'rose&red':'red', 'redplaid':'red',\n",
        "       'red&red':'red', 'black/red':'red', 'red&grey':'red', 'navyblue&red':'red', 'redblack':'red',\n",
        "       'black&rosered':'red', 'redwhite':'red', 'red&green':'red', 'yellow&red':'red',\n",
        "       'tangored':'red', 'floral&red':'red',\n",
        "       'metallicred':'red', 'leopardprint&red':'red', 'barnred':'red', 'brightred':'red',\n",
        "       'vintagered':'red', 'purplishred':'red', 'carminered/black':'red', 'lightred':'red',\n",
        "       'grey&red':'red', 'blackredassorted':'red', 'red&flame':'red', 'darkgray&red':'red',\n",
        "       'blackred':'red', 'purple&red':'red', 'redhot':'red', 'darkblue&rosered':'red', 'redwood':'red',\n",
        "       'redpunch':'red', 'graphicblackred':'red', 'red&wine':'red', 'brown&red':'red',\n",
        "       'winered&yellow':'red', 'cardinalred':'red',\n",
        "       'burgundysunsetheatheredrugbystripe':'red', 'red&khaki':'red', 'red&darkblue':'red',\n",
        "       'green&red':'red', 'deepred':'red', 'redorange':'red', 'blue-green&red':'red', 'glossyred':'red',\n",
        "       'whitered':'red', 'red/chrome':'red',\n",
        "\n",
        "       'darkgrey': 'grey', 'butterfly&grey': 'grey', 'blue&grey': 'grey', 'lightgrey': 'grey',\n",
        "       'silvergrey': 'grey', 'navygrey': 'grey', 'blackgrey': 'grey',\n",
        "       'greysnakeskinprint': 'grey', \n",
        "       'heathergrey': 'grey', 'sportgrey': 'grey', 'grey&white': 'grey', 'black&darkgrey': 'grey',\n",
        "       'grey&orange': 'grey', 'darkgrey&red': 'grey', 'rose/grey': 'grey', 'lightgrey&black': 'grey',\n",
        "       'grey&camouflage': 'grey',\n",
        "       'grey&green': 'grey', 'icegrey': 'grey','purple&grey': 'grey', 'coolgrey': 'grey',\n",
        "\n",
        "        'coffee': 'brown', 'camel': 'brown', 'tan': 'brown', \n",
        "        'offwhite': 'white', 'ivory': 'white', 'nude': 'white',\n",
        "        'lightpink': 'pink', 'dustypink':'pink', 'rosegold': 'pink',\n",
        "        'lightpurple': 'purple', 'coolblack': 'black', 'apricot': 'orange', 'offblack': 'black'}\n",
        "\n",
        "\n",
        "def update_color(col):\n",
        "    if colour_data.get(col, False):\n",
        "        return colour_data.get(col)\n",
        "    elif '&' in col:\n",
        "        return 'dual'\n",
        "    elif col in colour_data.values():\n",
        "        return col\n",
        "    else:\n",
        "        return 'other'\n",
        "\n",
        "summer['product_color'] =  summer['product_color'].apply(update_color)"
      ]
    },
    {
      "cell_type": "code",
      "execution_count": null,
      "metadata": {
        "id": "W_w7veRj8lsM"
      },
      "outputs": [],
      "source": [
        "summer['product_variation_size_id'] = summer['product_variation_size_id'].replace('2xl', 'xl')\n",
        "summer['product_variation_size_id'] = summer['product_variation_size_id'].replace('3xl', 'xl')\n",
        "summer['product_variation_size_id'] = summer['product_variation_size_id'].replace('4xl', 'xl')\n",
        "summer['product_variation_size_id'] = summer['product_variation_size_id'].replace('5xl', 'xl')\n",
        "summer['product_variation_size_id'] = summer['product_variation_size_id'].replace('6xl', 'xl')\n",
        "summer['product_variation_size_id'] = summer['product_variation_size_id'].replace('x   l', 'xl')\n",
        "summer['product_variation_size_id'] = summer['product_variation_size_id'].replace('sizel', 'l')\n",
        "summer['product_variation_size_id'] = summer['product_variation_size_id'].replace('size4xl', 'xl')\n",
        "summer['product_variation_size_id'] = summer['product_variation_size_id'].replace('x   l', 'xl')\n",
        "summer['product_variation_size_id'] = summer['product_variation_size_id'].replace('1 pc - xl', 'xl')\n",
        "\n",
        "def size_change(size):\n",
        "    if size in 'xl,l,s,xs,m,xxl,xxxs,xxxxxl,xxxxl'.split(','):\n",
        "        return size\n",
        "    else:\n",
        "        return 'Other'\n",
        "\n",
        "summer['product_variation_size_id'] = summer['product_variation_size_id'].apply(size_change)"
      ]
    },
    {
      "cell_type": "code",
      "execution_count": null,
      "metadata": {
        "id": "cfwiVJAdEer7"
      },
      "outputs": [],
      "source": [
        "def origin_country(country):\n",
        "    if country in 'CN, CA, US, KR, GB, PL, CZ, VN, VE, TR':\n",
        "        return country\n",
        "    else:\n",
        "        return 'Other'"
      ]
    },
    {
      "cell_type": "code",
      "execution_count": null,
      "metadata": {
        "id": "UJruP4fUE9up"
      },
      "outputs": [],
      "source": [
        "summer['origin_country'] = summer['origin_country'].apply(origin_country)"
      ]
    },
    {
      "cell_type": "markdown",
      "metadata": {
        "id": "UJoETDbk9o2b"
      },
      "source": [
        "## Correlation"
      ]
    },
    {
      "cell_type": "code",
      "execution_count": null,
      "metadata": {
        "id": "pw_j2v9d-dYt"
      },
      "outputs": [],
      "source": [
        "corr_matrix = summer.corr()"
      ]
    },
    {
      "cell_type": "code",
      "execution_count": null,
      "metadata": {
        "colab": {
          "base_uri": "https://localhost:8080/"
        },
        "id": "7szYo_g99wku",
        "outputId": "c9ede053-3c68-400b-eca9-4e6d0a7b0ff0"
      },
      "outputs": [
        {
          "data": {
            "image/png": "[encoded data removed]",
            "text/plain": [
              "<Figure size 720x360 with 2 Axes>"
            ]
          },
          "metadata": {},
          "output_type": "display_data"
        }
      ],
      "source": [
        "corr_matrix = summer.corr()\n",
        "fig_dims = (10, 5)\n",
        "fig, ax = plt.subplots(figsize=fig_dims)\n",
        "sns.heatmap(corr_matrix,\n",
        "            annot=True,\n",
        "            ax=ax)\n",
        "ax.add_patch(plt.Rectangle((0,2),31,1, \n",
        "                           fill = False, \n",
        "                           edgecolor = 'green', \n",
        "                           lw = 3))\n",
        "plt.show()"
      ]
    },
    {
      "cell_type": "markdown",
      "metadata": {
        "id": "ERMdJc2pCHYX"
      },
      "source": [
        "# MODEL"
      ]
    },
    {
      "cell_type": "code",
      "execution_count": null,
      "metadata": {
        "colab": {
          "base_uri": "https://localhost:8080/",
          "height": 300
        },
        "id": "dSX8Aq7n2mQI",
        "outputId": "a5ab9874-517b-41da-dfea-927751d20cde"
      },
      "outputs": [
        {
          "data": {
            "text/html": [
              "\n",
              "  <div id=\"df-5e30352e-6f1b-43c1-9226-5b302b217456\">\n",
              "    <div class=\"colab-df-container\">\n",
              "      <div>\n",
              "<style scoped>\n",
              "    .dataframe tbody tr th:only-of-type {\n",
              "        vertical-align: middle;\n",
              "    }\n",
              "\n",
              "    .dataframe tbody tr th {\n",
              "        vertical-align: top;\n",
              "    }\n",
              "\n",
              "    .dataframe thead th {\n",
              "        text-align: right;\n",
              "    }\n",
              "</style>\n",
              "<table border=\"1\" class=\"dataframe\">\n",
              "  <thead>\n",
              "    <tr style=\"text-align: right;\">\n",
              "      <th></th>\n",
              "      <th>discount_price</th>\n",
              "      <th>retail_price</th>\n",
              "      <th>nb_cart_orders_approx</th>\n",
              "      <th>product_variation_inventory</th>\n",
              "      <th>shipping_option_price</th>\n",
              "      <th>inventory_total</th>\n",
              "    </tr>\n",
              "  </thead>\n",
              "  <tbody>\n",
              "    <tr>\n",
              "      <th>count</th>\n",
              "      <td>6065.000000</td>\n",
              "      <td>6065.000000</td>\n",
              "      <td>6065.000000</td>\n",
              "      <td>6065.000000</td>\n",
              "      <td>6065.000000</td>\n",
              "      <td>6065.000000</td>\n",
              "    </tr>\n",
              "    <tr>\n",
              "      <th>mean</th>\n",
              "      <td>35.222575</td>\n",
              "      <td>59.247657</td>\n",
              "      <td>1534.872218</td>\n",
              "      <td>34.796538</td>\n",
              "      <td>4.981284</td>\n",
              "      <td>47.712613</td>\n",
              "    </tr>\n",
              "    <tr>\n",
              "      <th>std</th>\n",
              "      <td>372.277130</td>\n",
              "      <td>389.793125</td>\n",
              "      <td>5405.094992</td>\n",
              "      <td>20.890021</td>\n",
              "      <td>4.233939</td>\n",
              "      <td>9.340118</td>\n",
              "    </tr>\n",
              "    <tr>\n",
              "      <th>min</th>\n",
              "      <td>0.720000</td>\n",
              "      <td>1.000000</td>\n",
              "      <td>100.000000</td>\n",
              "      <td>0.000000</td>\n",
              "      <td>0.000000</td>\n",
              "      <td>1.000000</td>\n",
              "    </tr>\n",
              "    <tr>\n",
              "      <th>25%</th>\n",
              "      <td>7.000000</td>\n",
              "      <td>8.000000</td>\n",
              "      <td>100.000000</td>\n",
              "      <td>9.000000</td>\n",
              "      <td>2.000000</td>\n",
              "      <td>50.000000</td>\n",
              "    </tr>\n",
              "    <tr>\n",
              "      <th>50%</th>\n",
              "      <td>11.000000</td>\n",
              "      <td>16.000000</td>\n",
              "      <td>100.000000</td>\n",
              "      <td>50.000000</td>\n",
              "      <td>3.000000</td>\n",
              "      <td>50.000000</td>\n",
              "    </tr>\n",
              "    <tr>\n",
              "      <th>75%</th>\n",
              "      <td>19.000000</td>\n",
              "      <td>39.000000</td>\n",
              "      <td>1000.000000</td>\n",
              "      <td>50.000000</td>\n",
              "      <td>7.000000</td>\n",
              "      <td>50.000000</td>\n",
              "    </tr>\n",
              "    <tr>\n",
              "      <th>max</th>\n",
              "      <td>12256.000000</td>\n",
              "      <td>12256.000000</td>\n",
              "      <td>100000.000000</td>\n",
              "      <td>50.000000</td>\n",
              "      <td>80.000000</td>\n",
              "      <td>50.000000</td>\n",
              "    </tr>\n",
              "  </tbody>\n",
              "</table>\n",
              "</div>\n",
              "      <button class=\"colab-df-convert\" onclick=\"convertToInteractive('df-5e30352e-6f1b-43c1-9226-5b302b217456')\"\n",
              "              title=\"Convert this dataframe to an interactive table.\"\n",
              "              style=\"display:none;\">\n",
              "        \n",
              "  <svg xmlns=\"http://www.w3.org/2000/svg\" height=\"24px\"viewBox=\"0 0 24 24\"\n",
              "       width=\"24px\">\n",
              "    <path d=\"M0 0h24v24H0V0z\" fill=\"none\"/>\n",
              "    <path d=\"M18.56 5.44l.94 2.06.94-2.06 2.06-.94-2.06-.94-.94-2.06-.94 2.06-2.06.94zm-11 1L8.5 8.5l.94-2.06 2.06-.94-2.06-.94L8.5 2.5l-.94 2.06-2.06.94zm10 10l.94 2.06.94-2.06 2.06-.94-2.06-.94-.94-2.06-.94 2.06-2.06.94z\"/><path d=\"M17.41 7.96l-1.37-1.37c-.4-.4-.92-.59-1.43-.59-.52 0-1.04.2-1.43.59L10.3 9.45l-7.72 7.72c-.78.78-.78 2.05 0 2.83L4 21.41c.39.39.9.59 1.41.59.51 0 1.02-.2 1.41-.59l7.78-7.78 2.81-2.81c.8-.78.8-2.07 0-2.86zM5.41 20L4 18.59l7.72-7.72 1.47 1.35L5.41 20z\"/>\n",
              "  </svg>\n",
              "      </button>\n",
              "      \n",
              "  <style>\n",
              "    .colab-df-container {\n",
              "      display:flex;\n",
              "      flex-wrap:wrap;\n",
              "      gap: 12px;\n",
              "    }\n",
              "\n",
              "    .colab-df-convert {\n",
              "      background-color: #E8F0FE;\n",
              "      border: none;\n",
              "      border-radius: 50%;\n",
              "      cursor: pointer;\n",
              "      display: none;\n",
              "      fill: #1967D2;\n",
              "      height: 32px;\n",
              "      padding: 0 0 0 0;\n",
              "      width: 32px;\n",
              "    }\n",
              "\n",
              "    .colab-df-convert:hover {\n",
              "      background-color: #E2EBFA;\n",
              "      box-shadow: 0px 1px 2px rgba(60, 64, 67, 0.3), 0px 1px 3px 1px rgba(60, 64, 67, 0.15);\n",
              "      fill: #174EA6;\n",
              "    }\n",
              "\n",
              "    [theme=dark] .colab-df-convert {\n",
              "      background-color: #3B4455;\n",
              "      fill: #D2E3FC;\n",
              "    }\n",
              "\n",
              "    [theme=dark] .colab-df-convert:hover {\n",
              "      background-color: #434B5C;\n",
              "      box-shadow: 0px 1px 3px 1px rgba(0, 0, 0, 0.15);\n",
              "      filter: drop-shadow(0px 1px 2px rgba(0, 0, 0, 0.3));\n",
              "      fill: #FFFFFF;\n",
              "    }\n",
              "  </style>\n",
              "\n",
              "      <script>\n",
              "        const buttonEl =\n",
              "          document.querySelector('#df-5e30352e-6f1b-43c1-9226-5b302b217456 button.colab-df-convert');\n",
              "        buttonEl.style.display =\n",
              "          google.colab.kernel.accessAllowed ? 'block' : 'none';\n",
              "\n",
              "        async function convertToInteractive(key) {\n",
              "          const element = document.querySelector('#df-5e30352e-6f1b-43c1-9226-5b302b217456');\n",
              "          const dataTable =\n",
              "            await google.colab.kernel.invokeFunction('convertToInteractive',\n",
              "                                                     [key], {});\n",
              "          if (!dataTable) return;\n",
              "\n",
              "          const docLinkHtml = 'Like what you see? Visit the ' +\n",
              "            '<a target=\"_blank\" href=https://colab.research.google.com/notebooks/data_table.ipynb>data table notebook</a>'\n",
              "            + ' to learn more about interactive tables.';\n",
              "          element.innerHTML = '';\n",
              "          dataTable['output_type'] = 'display_data';\n",
              "          await google.colab.output.renderOutput(dataTable, element);\n",
              "          const docLink = document.createElement('div');\n",
              "          docLink.innerHTML = docLinkHtml;\n",
              "          element.appendChild(docLink);\n",
              "        }\n",
              "      </script>\n",
              "    </div>\n",
              "  </div>\n",
              "  "
            ],
            "text/plain": [
              "       discount_price  retail_price  ...  shipping_option_price  inventory_total\n",
              "count     6065.000000   6065.000000  ...            6065.000000      6065.000000\n",
              "mean        35.222575     59.247657  ...               4.981284        47.712613\n",
              "std        372.277130    389.793125  ...               4.233939         9.340118\n",
              "min          0.720000      1.000000  ...               0.000000         1.000000\n",
              "25%          7.000000      8.000000  ...               2.000000        50.000000\n",
              "50%         11.000000     16.000000  ...               3.000000        50.000000\n",
              "75%         19.000000     39.000000  ...               7.000000        50.000000\n",
              "max      12256.000000  12256.000000  ...              80.000000        50.000000\n",
              "\n",
              "[8 rows x 6 columns]"
            ]
          },
          "execution_count": 40,
          "metadata": {},
          "output_type": "execute_result"
        }
      ],
      "source": [
        "summer.describe()"
      ]
    },
    {
      "cell_type": "markdown",
      "metadata": {
        "id": "TZOOeOKZClLh"
      },
      "source": [
        "##  Prepare data for ML model"
      ]
    },
    {
      "cell_type": "code",
      "execution_count": null,
      "metadata": {
        "id": "jGo2pVvzCXD5"
      },
      "outputs": [],
      "source": [
        "df = summer.copy()"
      ]
    },
    {
      "cell_type": "code",
      "execution_count": null,
      "metadata": {
        "id": "a0GX0rq9CUUm"
      },
      "outputs": [],
      "source": [
        "from sklearn.model_selection import train_test_split\n",
        "\n",
        "x = df.drop('nb_cart_orders_approx',axis=1)\n",
        "y = df['nb_cart_orders_approx']\n",
        "\n",
        "x_train, x_test, y_train, y_test = train_test_split(x, y, test_size = 0.2, random_state = 42)"
      ]
    },
    {
      "cell_type": "code",
      "execution_count": null,
      "metadata": {
        "colab": {
          "base_uri": "https://localhost:8080/"
        },
        "id": "dxFzHHNwCfxj",
        "outputId": "8e539db5-9622-42db-e031-7817cf9de582"
      },
      "outputs": [
        {
          "name": "stdout",
          "output_type": "stream",
          "text": [
            "Shape of x train:  (4852, 9)\n",
            "Shape of y train:  (4852,)\n",
            "Shape of x test:  (1213, 9)\n",
            "Shape of y test:  (1213,)\n"
          ]
        }
      ],
      "source": [
        "print('Shape of x train: ',x_train.shape)\n",
        "print('Shape of y train: ',y_train.shape)\n",
        "print('Shape of x test: ',x_test.shape)\n",
        "print('Shape of y test: ',y_test.shape)"
      ]
    },
    {
      "cell_type": "markdown",
      "metadata": {
        "id": "7rIlnk7ICvnQ"
      },
      "source": [
        "## Processing"
      ]
    },
    {
      "cell_type": "code",
      "execution_count": null,
      "metadata": {
        "id": "9d-CLpnMC1w9"
      },
      "outputs": [],
      "source": [
        "# numerical columns\n",
        "numerical = list(x_train.select_dtypes('number').columns) \n",
        "\n",
        "# categorical columns\n",
        "categorical = [col for col in x_train.columns if col not in numerical]"
      ]
    },
    {
      "cell_type": "code",
      "execution_count": null,
      "metadata": {
        "id": "DGU8nig_C9JK"
      },
      "outputs": [],
      "source": [
        "# Define categorical pipeline\n",
        "\n",
        "cat_pipe = Pipeline([('encoder', OneHotEncoder(handle_unknown='ignore', sparse=False))])\n",
        "\n",
        "# Define numerical pipeline\n",
        "num_pipe = Pipeline([\n",
        "                  ('poly', PolynomialFeatures(degree=1, include_bias=False)), \n",
        "                  ('scaler', MinMaxScaler())\n",
        "                   ])\n",
        "\n",
        "# Fit column transformer to training data\n",
        "full_pipeline = ColumnTransformer(transformers=[\n",
        "                                      ('cat', cat_pipe, categorical),\n",
        "                                      ('num', num_pipe, numerical)],\n",
        "                                       remainder='passthrough')"
      ]
    },
    {
      "cell_type": "markdown",
      "metadata": {
        "id": "dhv1vLk1DMyY"
      },
      "source": [
        "## Select and training model"
      ]
    },
    {
      "cell_type": "code",
      "execution_count": null,
      "metadata": {
        "id": "n1FTmI_ODPx1"
      },
      "outputs": [],
      "source": [
        "X_train_transformed = full_pipeline.fit_transform(x_train)"
      ]
    },
    {
      "cell_type": "code",
      "execution_count": null,
      "metadata": {
        "id": "KVbI_uEOglYt"
      },
      "outputs": [],
      "source": [
        "X_test_transformed = full_pipeline.transform(x_test)"
      ]
    },
    {
      "cell_type": "code",
      "execution_count": null,
      "metadata": {
        "id": "ix2ABXFZXv-u"
      },
      "outputs": [],
      "source": [
        "def acc_score(clf, X, y, scoring='accuracy'):\n",
        "    xval = cross_val_score(clf, X, y, cv = 5, scoring=scoring)\n",
        "    return np.mean(xval)"
      ]
    },
    {
      "cell_type": "code",
      "execution_count": null,
      "metadata": {
        "colab": {
          "base_uri": "https://localhost:8080/",
          "height": 237
        },
        "id": "ny7u6Kr9XCCJ",
        "outputId": "0b35ca5c-5a3b-44c5-86d2-1c31acc831bf"
      },
      "outputs": [
        {
          "data": {
            "text/html": [
              "\n",
              "  <div id=\"df-321cfe62-9151-43b0-a2eb-46d7cf89a29b\">\n",
              "    <div class=\"colab-df-container\">\n",
              "      <div>\n",
              "<style scoped>\n",
              "    .dataframe tbody tr th:only-of-type {\n",
              "        vertical-align: middle;\n",
              "    }\n",
              "\n",
              "    .dataframe tbody tr th {\n",
              "        vertical-align: top;\n",
              "    }\n",
              "\n",
              "    .dataframe thead th {\n",
              "        text-align: right;\n",
              "    }\n",
              "</style>\n",
              "<table border=\"1\" class=\"dataframe\">\n",
              "  <thead>\n",
              "    <tr style=\"text-align: right;\">\n",
              "      <th></th>\n",
              "      <th>Classifiers</th>\n",
              "      <th>Accuracy</th>\n",
              "    </tr>\n",
              "  </thead>\n",
              "  <tbody>\n",
              "    <tr>\n",
              "      <th>2</th>\n",
              "      <td>XG Boost</td>\n",
              "      <td>68.652065</td>\n",
              "    </tr>\n",
              "    <tr>\n",
              "      <th>0</th>\n",
              "      <td>Decision Tree</td>\n",
              "      <td>68.239927</td>\n",
              "    </tr>\n",
              "    <tr>\n",
              "      <th>3</th>\n",
              "      <td>Gradient Boosting</td>\n",
              "      <td>67.662607</td>\n",
              "    </tr>\n",
              "    <tr>\n",
              "      <th>5</th>\n",
              "      <td>LightGBM</td>\n",
              "      <td>67.332880</td>\n",
              "    </tr>\n",
              "    <tr>\n",
              "      <th>4</th>\n",
              "      <td>KNeighborsClassifier</td>\n",
              "      <td>67.065073</td>\n",
              "    </tr>\n",
              "    <tr>\n",
              "      <th>1</th>\n",
              "      <td>Random Forest</td>\n",
              "      <td>64.736068</td>\n",
              "    </tr>\n",
              "  </tbody>\n",
              "</table>\n",
              "</div>\n",
              "      <button class=\"colab-df-convert\" onclick=\"convertToInteractive('df-321cfe62-9151-43b0-a2eb-46d7cf89a29b')\"\n",
              "              title=\"Convert this dataframe to an interactive table.\"\n",
              "              style=\"display:none;\">\n",
              "        \n",
              "  <svg xmlns=\"http://www.w3.org/2000/svg\" height=\"24px\"viewBox=\"0 0 24 24\"\n",
              "       width=\"24px\">\n",
              "    <path d=\"M0 0h24v24H0V0z\" fill=\"none\"/>\n",
              "    <path d=\"M18.56 5.44l.94 2.06.94-2.06 2.06-.94-2.06-.94-.94-2.06-.94 2.06-2.06.94zm-11 1L8.5 8.5l.94-2.06 2.06-.94-2.06-.94L8.5 2.5l-.94 2.06-2.06.94zm10 10l.94 2.06.94-2.06 2.06-.94-2.06-.94-.94-2.06-.94 2.06-2.06.94z\"/><path d=\"M17.41 7.96l-1.37-1.37c-.4-.4-.92-.59-1.43-.59-.52 0-1.04.2-1.43.59L10.3 9.45l-7.72 7.72c-.78.78-.78 2.05 0 2.83L4 21.41c.39.39.9.59 1.41.59.51 0 1.02-.2 1.41-.59l7.78-7.78 2.81-2.81c.8-.78.8-2.07 0-2.86zM5.41 20L4 18.59l7.72-7.72 1.47 1.35L5.41 20z\"/>\n",
              "  </svg>\n",
              "      </button>\n",
              "      \n",
              "  <style>\n",
              "    .colab-df-container {\n",
              "      display:flex;\n",
              "      flex-wrap:wrap;\n",
              "      gap: 12px;\n",
              "    }\n",
              "\n",
              "    .colab-df-convert {\n",
              "      background-color: #E8F0FE;\n",
              "      border: none;\n",
              "      border-radius: 50%;\n",
              "      cursor: pointer;\n",
              "      display: none;\n",
              "      fill: #1967D2;\n",
              "      height: 32px;\n",
              "      padding: 0 0 0 0;\n",
              "      width: 32px;\n",
              "    }\n",
              "\n",
              "    .colab-df-convert:hover {\n",
              "      background-color: #E2EBFA;\n",
              "      box-shadow: 0px 1px 2px rgba(60, 64, 67, 0.3), 0px 1px 3px 1px rgba(60, 64, 67, 0.15);\n",
              "      fill: #174EA6;\n",
              "    }\n",
              "\n",
              "    [theme=dark] .colab-df-convert {\n",
              "      background-color: #3B4455;\n",
              "      fill: #D2E3FC;\n",
              "    }\n",
              "\n",
              "    [theme=dark] .colab-df-convert:hover {\n",
              "      background-color: #434B5C;\n",
              "      box-shadow: 0px 1px 3px 1px rgba(0, 0, 0, 0.15);\n",
              "      filter: drop-shadow(0px 1px 2px rgba(0, 0, 0, 0.3));\n",
              "      fill: #FFFFFF;\n",
              "    }\n",
              "  </style>\n",
              "\n",
              "      <script>\n",
              "        const buttonEl =\n",
              "          document.querySelector('#df-321cfe62-9151-43b0-a2eb-46d7cf89a29b button.colab-df-convert');\n",
              "        buttonEl.style.display =\n",
              "          google.colab.kernel.accessAllowed ? 'block' : 'none';\n",
              "\n",
              "        async function convertToInteractive(key) {\n",
              "          const element = document.querySelector('#df-321cfe62-9151-43b0-a2eb-46d7cf89a29b');\n",
              "          const dataTable =\n",
              "            await google.colab.kernel.invokeFunction('convertToInteractive',\n",
              "                                                     [key], {});\n",
              "          if (!dataTable) return;\n",
              "\n",
              "          const docLinkHtml = 'Like what you see? Visit the ' +\n",
              "            '<a target=\"_blank\" href=https://colab.research.google.com/notebooks/data_table.ipynb>data table notebook</a>'\n",
              "            + ' to learn more about interactive tables.';\n",
              "          element.innerHTML = '';\n",
              "          dataTable['output_type'] = 'display_data';\n",
              "          await google.colab.output.renderOutput(dataTable, element);\n",
              "          const docLink = document.createElement('div');\n",
              "          docLink.innerHTML = docLinkHtml;\n",
              "          element.appendChild(docLink);\n",
              "        }\n",
              "      </script>\n",
              "    </div>\n",
              "  </div>\n",
              "  "
            ],
            "text/plain": [
              "            Classifiers   Accuracy\n",
              "2              XG Boost  68.652065\n",
              "0         Decision Tree  68.239927\n",
              "3     Gradient Boosting  67.662607\n",
              "5              LightGBM  67.332880\n",
              "4  KNeighborsClassifier  67.065073\n",
              "1         Random Forest  64.736068"
            ]
          },
          "execution_count": 62,
          "metadata": {},
          "output_type": "execute_result"
        }
      ],
      "source": [
        "DTC = DecisionTreeClassifier(max_depth = 2,random_state = 42)\n",
        "RFC = RandomForestClassifier(random_state = 42)                     \n",
        "GBC = GradientBoostingClassifier(random_state = 42)\n",
        "KNN = KNeighborsClassifier(n_neighbors = 10)\n",
        "XGB = XGBClassifier()\n",
        "LGBMC = lgb.LGBMClassifier()\n",
        "\n",
        "classifiers = [DTC, RFC, XGB, GBC, KNN, LGBMC]\n",
        "\n",
        "classifiers_names = ['Decision Tree',\n",
        "                     'Random Forest',\n",
        "                     'XG Boost',\n",
        "                     'Gradient Boosting',\n",
        "                     'KNeighborsClassifier',\n",
        "                     'LightGBM']\n",
        "acc_mean = []\n",
        "\n",
        "for cl in classifiers:\n",
        "    acc = cross_val_score(estimator= cl, X= X_train_transformed, y= y_train, cv= 5)\n",
        "    acc_mean.append(acc.mean()*100)\n",
        "    \n",
        "acc_df = pd.DataFrame({'Classifiers': classifiers_names,\n",
        "                       'Accuracy': acc_mean})\n",
        "\n",
        "acc_df.sort_values('Accuracy',ascending=False)"
      ]
    },
    {
      "cell_type": "markdown",
      "metadata": {
        "id": "v8Gm3gn_DoXB"
      },
      "source": [
        "## Fine tuning model"
      ]
    },
    {
      "cell_type": "code",
      "execution_count": null,
      "metadata": {
        "id": "Zdup-FuLpzuy"
      },
      "outputs": [],
      "source": [
        "from sklearn.model_selection import GridSearchCV\n",
        "from sklearn.model_selection import RandomizedSearchCV\n",
        "from sklearn.model_selection import StratifiedKFold\n",
        "from sklearn.model_selection import KFold\n",
        "\n",
        "stratified_kfold = StratifiedKFold(n_splits=5,shuffle=True, random_state=42)\n",
        "kfold = KFold(n_splits=5,shuffle=True, random_state=42)"
      ]
    },
    {
      "cell_type": "code",
      "execution_count": null,
      "metadata": {
        "id": "eTa4o9pLmzYU"
      },
      "outputs": [],
      "source": [
        "def train_model(model,X_train_transformed,y_train):\n",
        "  model.fit(X_train_transformed,y_train)\n",
        "  y_train_pred= model.predict(X_train_transformed)\n",
        "  rfr_acc = accuracy_score(y_train,y_train_pred)\n",
        "  print(f\"The accuracy is {rfr_acc:.2f}\")\n",
        "  return model\n",
        "\n",
        "def save_model(best_estimator,filename):\n",
        "  pickle.dump(best_estimator, open(filename,'wb'))"
      ]
    },
    {
      "cell_type": "code",
      "execution_count": null,
      "metadata": {
        "id": "bSNbHtwO7ueC"
      },
      "outputs": [],
      "source": [
        "acc_final= {}"
      ]
    },
    {
      "cell_type": "markdown",
      "metadata": {
        "id": "fVeSTGfIEqsL"
      },
      "source": [
        "### LightGBM"
      ]
    },
    {
      "cell_type": "code",
      "execution_count": null,
      "metadata": {
        "colab": {
          "base_uri": "https://localhost:8080/"
        },
        "id": "VR9Wb2-B_AYm",
        "outputId": "40eacc16-e933-4803-9678-ec3123a81df1"
      },
      "outputs": [
        {
          "name": "stdout",
          "output_type": "stream",
          "text": [
            "The accuracy is 0.78\n"
          ]
        },
        {
          "data": {
            "text/plain": [
              "{'boosting_type': 'gbdt',\n",
              " 'class_weight': None,\n",
              " 'colsample_bytree': 1.0,\n",
              " 'importance_type': 'split',\n",
              " 'learning_rate': 0.1,\n",
              " 'max_depth': -1,\n",
              " 'min_child_samples': 20,\n",
              " 'min_child_weight': 0.001,\n",
              " 'min_split_gain': 0.0,\n",
              " 'n_estimators': 100,\n",
              " 'n_jobs': -1,\n",
              " 'num_leaves': 31,\n",
              " 'objective': None,\n",
              " 'random_state': None,\n",
              " 'reg_alpha': 0.0,\n",
              " 'reg_lambda': 0.0,\n",
              " 'silent': True,\n",
              " 'subsample': 1.0,\n",
              " 'subsample_for_bin': 200000,\n",
              " 'subsample_freq': 0}"
            ]
          },
          "execution_count": 66,
          "metadata": {},
          "output_type": "execute_result"
        }
      ],
      "source": [
        "#Model\n",
        "model_lgbmc = train_model(LGBMC,X_train_transformed,y_train)\n",
        "model_lgbmc.get_params()"
      ]
    },
    {
      "cell_type": "code",
      "execution_count": null,
      "metadata": {
        "colab": {
          "base_uri": "https://localhost:8080/",
          "height": 380
        },
        "id": "dU7nnT3wBiTO",
        "outputId": "e06e7221-7b7b-4c10-a051-a124e398d358"
      },
      "outputs": [
        {
          "name": "stdout",
          "output_type": "stream",
          "text": [
            "Fitting 5 folds for each of 20 candidates, totalling 100 fits\n"
          ]
        },
        {
          "ename": "KeyboardInterrupt",
          "evalue": "ignored",
          "output_type": "error",
          "traceback": [
            "\u001b[0;31m---------------------------------------------------------------------------\u001b[0m",
            "\u001b[0;31mKeyboardInterrupt\u001b[0m                         Traceback (most recent call last)",
            "\u001b[0;32m<ipython-input-67-9a92e0c5a47c>\u001b[0m in \u001b[0;36m<module>\u001b[0;34m()\u001b[0m\n\u001b[1;32m     14\u001b[0m                                         n_jobs = -1, verbose = 2)\n\u001b[1;32m     15\u001b[0m \u001b[0;34m\u001b[0m\u001b[0m\n\u001b[0;32m---> 16\u001b[0;31m \u001b[0mlgbmc_randSearchCV\u001b[0m\u001b[0;34m.\u001b[0m\u001b[0mfit\u001b[0m\u001b[0;34m(\u001b[0m\u001b[0mX_train_transformed\u001b[0m\u001b[0;34m,\u001b[0m \u001b[0my_train\u001b[0m\u001b[0;34m)\u001b[0m\u001b[0;34m\u001b[0m\u001b[0;34m\u001b[0m\u001b[0m\n\u001b[0m",
            "\u001b[0;32m/usr/local/lib/python3.7/dist-packages/sklearn/model_selection/_search.py\u001b[0m in \u001b[0;36mfit\u001b[0;34m(self, X, y, groups, **fit_params)\u001b[0m\n\u001b[1;32m    889\u001b[0m                 \u001b[0;32mreturn\u001b[0m \u001b[0mresults\u001b[0m\u001b[0;34m\u001b[0m\u001b[0;34m\u001b[0m\u001b[0m\n\u001b[1;32m    890\u001b[0m \u001b[0;34m\u001b[0m\u001b[0m\n\u001b[0;32m--> 891\u001b[0;31m             \u001b[0mself\u001b[0m\u001b[0;34m.\u001b[0m\u001b[0m_run_search\u001b[0m\u001b[0;34m(\u001b[0m\u001b[0mevaluate_candidates\u001b[0m\u001b[0;34m)\u001b[0m\u001b[0;34m\u001b[0m\u001b[0;34m\u001b[0m\u001b[0m\n\u001b[0m\u001b[1;32m    892\u001b[0m \u001b[0;34m\u001b[0m\u001b[0m\n\u001b[1;32m    893\u001b[0m             \u001b[0;31m# multimetric is determined here because in the case of a callable\u001b[0m\u001b[0;34m\u001b[0m\u001b[0;34m\u001b[0m\u001b[0;34m\u001b[0m\u001b[0m\n",
            "\u001b[0;32m/usr/local/lib/python3.7/dist-packages/sklearn/model_selection/_search.py\u001b[0m in \u001b[0;36m_run_search\u001b[0;34m(self, evaluate_candidates)\u001b[0m\n\u001b[1;32m   1766\u001b[0m         evaluate_candidates(\n\u001b[1;32m   1767\u001b[0m             ParameterSampler(\n\u001b[0;32m-> 1768\u001b[0;31m                 \u001b[0mself\u001b[0m\u001b[0;34m.\u001b[0m\u001b[0mparam_distributions\u001b[0m\u001b[0;34m,\u001b[0m \u001b[0mself\u001b[0m\u001b[0;34m.\u001b[0m\u001b[0mn_iter\u001b[0m\u001b[0;34m,\u001b[0m \u001b[0mrandom_state\u001b[0m\u001b[0;34m=\u001b[0m\u001b[0mself\u001b[0m\u001b[0;34m.\u001b[0m\u001b[0mrandom_state\u001b[0m\u001b[0;34m\u001b[0m\u001b[0;34m\u001b[0m\u001b[0m\n\u001b[0m\u001b[1;32m   1769\u001b[0m             )\n\u001b[1;32m   1770\u001b[0m         )\n",
            "\u001b[0;32m/usr/local/lib/python3.7/dist-packages/sklearn/model_selection/_search.py\u001b[0m in \u001b[0;36mevaluate_candidates\u001b[0;34m(candidate_params, cv, more_results)\u001b[0m\n\u001b[1;32m    849\u001b[0m                     )\n\u001b[1;32m    850\u001b[0m                     for (cand_idx, parameters), (split_idx, (train, test)) in product(\n\u001b[0;32m--> 851\u001b[0;31m                         \u001b[0menumerate\u001b[0m\u001b[0;34m(\u001b[0m\u001b[0mcandidate_params\u001b[0m\u001b[0;34m)\u001b[0m\u001b[0;34m,\u001b[0m \u001b[0menumerate\u001b[0m\u001b[0;34m(\u001b[0m\u001b[0mcv\u001b[0m\u001b[0;34m.\u001b[0m\u001b[0msplit\u001b[0m\u001b[0;34m(\u001b[0m\u001b[0mX\u001b[0m\u001b[0;34m,\u001b[0m \u001b[0my\u001b[0m\u001b[0;34m,\u001b[0m \u001b[0mgroups\u001b[0m\u001b[0;34m)\u001b[0m\u001b[0;34m)\u001b[0m\u001b[0;34m\u001b[0m\u001b[0;34m\u001b[0m\u001b[0m\n\u001b[0m\u001b[1;32m    852\u001b[0m                     )\n\u001b[1;32m    853\u001b[0m                 )\n",
            "\u001b[0;32m/usr/local/lib/python3.7/dist-packages/joblib/parallel.py\u001b[0m in \u001b[0;36m__call__\u001b[0;34m(self, iterable)\u001b[0m\n\u001b[1;32m   1054\u001b[0m \u001b[0;34m\u001b[0m\u001b[0m\n\u001b[1;32m   1055\u001b[0m             \u001b[0;32mwith\u001b[0m \u001b[0mself\u001b[0m\u001b[0;34m.\u001b[0m\u001b[0m_backend\u001b[0m\u001b[0;34m.\u001b[0m\u001b[0mretrieval_context\u001b[0m\u001b[0;34m(\u001b[0m\u001b[0;34m)\u001b[0m\u001b[0;34m:\u001b[0m\u001b[0;34m\u001b[0m\u001b[0;34m\u001b[0m\u001b[0m\n\u001b[0;32m-> 1056\u001b[0;31m                 \u001b[0mself\u001b[0m\u001b[0;34m.\u001b[0m\u001b[0mretrieve\u001b[0m\u001b[0;34m(\u001b[0m\u001b[0;34m)\u001b[0m\u001b[0;34m\u001b[0m\u001b[0;34m\u001b[0m\u001b[0m\n\u001b[0m\u001b[1;32m   1057\u001b[0m             \u001b[0;31m# Make sure that we get a last message telling us we are done\u001b[0m\u001b[0;34m\u001b[0m\u001b[0;34m\u001b[0m\u001b[0;34m\u001b[0m\u001b[0m\n\u001b[1;32m   1058\u001b[0m             \u001b[0melapsed_time\u001b[0m \u001b[0;34m=\u001b[0m \u001b[0mtime\u001b[0m\u001b[0;34m.\u001b[0m\u001b[0mtime\u001b[0m\u001b[0;34m(\u001b[0m\u001b[0;34m)\u001b[0m \u001b[0;34m-\u001b[0m \u001b[0mself\u001b[0m\u001b[0;34m.\u001b[0m\u001b[0m_start_time\u001b[0m\u001b[0;34m\u001b[0m\u001b[0;34m\u001b[0m\u001b[0m\n",
            "\u001b[0;32m/usr/local/lib/python3.7/dist-packages/joblib/parallel.py\u001b[0m in \u001b[0;36mretrieve\u001b[0;34m(self)\u001b[0m\n\u001b[1;32m    933\u001b[0m             \u001b[0;32mtry\u001b[0m\u001b[0;34m:\u001b[0m\u001b[0;34m\u001b[0m\u001b[0;34m\u001b[0m\u001b[0m\n\u001b[1;32m    934\u001b[0m                 \u001b[0;32mif\u001b[0m \u001b[0mgetattr\u001b[0m\u001b[0;34m(\u001b[0m\u001b[0mself\u001b[0m\u001b[0;34m.\u001b[0m\u001b[0m_backend\u001b[0m\u001b[0;34m,\u001b[0m \u001b[0;34m'supports_timeout'\u001b[0m\u001b[0;34m,\u001b[0m \u001b[0;32mFalse\u001b[0m\u001b[0;34m)\u001b[0m\u001b[0;34m:\u001b[0m\u001b[0;34m\u001b[0m\u001b[0;34m\u001b[0m\u001b[0m\n\u001b[0;32m--> 935\u001b[0;31m                     \u001b[0mself\u001b[0m\u001b[0;34m.\u001b[0m\u001b[0m_output\u001b[0m\u001b[0;34m.\u001b[0m\u001b[0mextend\u001b[0m\u001b[0;34m(\u001b[0m\u001b[0mjob\u001b[0m\u001b[0;34m.\u001b[0m\u001b[0mget\u001b[0m\u001b[0;34m(\u001b[0m\u001b[0mtimeout\u001b[0m\u001b[0;34m=\u001b[0m\u001b[0mself\u001b[0m\u001b[0;34m.\u001b[0m\u001b[0mtimeout\u001b[0m\u001b[0;34m)\u001b[0m\u001b[0;34m)\u001b[0m\u001b[0;34m\u001b[0m\u001b[0;34m\u001b[0m\u001b[0m\n\u001b[0m\u001b[1;32m    936\u001b[0m                 \u001b[0;32melse\u001b[0m\u001b[0;34m:\u001b[0m\u001b[0;34m\u001b[0m\u001b[0;34m\u001b[0m\u001b[0m\n\u001b[1;32m    937\u001b[0m                     \u001b[0mself\u001b[0m\u001b[0;34m.\u001b[0m\u001b[0m_output\u001b[0m\u001b[0;34m.\u001b[0m\u001b[0mextend\u001b[0m\u001b[0;34m(\u001b[0m\u001b[0mjob\u001b[0m\u001b[0;34m.\u001b[0m\u001b[0mget\u001b[0m\u001b[0;34m(\u001b[0m\u001b[0;34m)\u001b[0m\u001b[0;34m)\u001b[0m\u001b[0;34m\u001b[0m\u001b[0;34m\u001b[0m\u001b[0m\n",
            "\u001b[0;32m/usr/local/lib/python3.7/dist-packages/joblib/_parallel_backends.py\u001b[0m in \u001b[0;36mwrap_future_result\u001b[0;34m(future, timeout)\u001b[0m\n\u001b[1;32m    540\u001b[0m         AsyncResults.get from multiprocessing.\"\"\"\n\u001b[1;32m    541\u001b[0m         \u001b[0;32mtry\u001b[0m\u001b[0;34m:\u001b[0m\u001b[0;34m\u001b[0m\u001b[0;34m\u001b[0m\u001b[0m\n\u001b[0;32m--> 542\u001b[0;31m             \u001b[0;32mreturn\u001b[0m \u001b[0mfuture\u001b[0m\u001b[0;34m.\u001b[0m\u001b[0mresult\u001b[0m\u001b[0;34m(\u001b[0m\u001b[0mtimeout\u001b[0m\u001b[0;34m=\u001b[0m\u001b[0mtimeout\u001b[0m\u001b[0;34m)\u001b[0m\u001b[0;34m\u001b[0m\u001b[0;34m\u001b[0m\u001b[0m\n\u001b[0m\u001b[1;32m    543\u001b[0m         \u001b[0;32mexcept\u001b[0m \u001b[0mCfTimeoutError\u001b[0m \u001b[0;32mas\u001b[0m \u001b[0me\u001b[0m\u001b[0;34m:\u001b[0m\u001b[0;34m\u001b[0m\u001b[0;34m\u001b[0m\u001b[0m\n\u001b[1;32m    544\u001b[0m             \u001b[0;32mraise\u001b[0m \u001b[0mTimeoutError\u001b[0m \u001b[0;32mfrom\u001b[0m \u001b[0me\u001b[0m\u001b[0;34m\u001b[0m\u001b[0;34m\u001b[0m\u001b[0m\n",
            "\u001b[0;32m/usr/lib/python3.7/concurrent/futures/_base.py\u001b[0m in \u001b[0;36mresult\u001b[0;34m(self, timeout)\u001b[0m\n\u001b[1;32m    428\u001b[0m                 \u001b[0;32mreturn\u001b[0m \u001b[0mself\u001b[0m\u001b[0;34m.\u001b[0m\u001b[0m__get_result\u001b[0m\u001b[0;34m(\u001b[0m\u001b[0;34m)\u001b[0m\u001b[0;34m\u001b[0m\u001b[0;34m\u001b[0m\u001b[0m\n\u001b[1;32m    429\u001b[0m \u001b[0;34m\u001b[0m\u001b[0m\n\u001b[0;32m--> 430\u001b[0;31m             \u001b[0mself\u001b[0m\u001b[0;34m.\u001b[0m\u001b[0m_condition\u001b[0m\u001b[0;34m.\u001b[0m\u001b[0mwait\u001b[0m\u001b[0;34m(\u001b[0m\u001b[0mtimeout\u001b[0m\u001b[0;34m)\u001b[0m\u001b[0;34m\u001b[0m\u001b[0;34m\u001b[0m\u001b[0m\n\u001b[0m\u001b[1;32m    431\u001b[0m \u001b[0;34m\u001b[0m\u001b[0m\n\u001b[1;32m    432\u001b[0m             \u001b[0;32mif\u001b[0m \u001b[0mself\u001b[0m\u001b[0;34m.\u001b[0m\u001b[0m_state\u001b[0m \u001b[0;32min\u001b[0m \u001b[0;34m[\u001b[0m\u001b[0mCANCELLED\u001b[0m\u001b[0;34m,\u001b[0m \u001b[0mCANCELLED_AND_NOTIFIED\u001b[0m\u001b[0;34m]\u001b[0m\u001b[0;34m:\u001b[0m\u001b[0;34m\u001b[0m\u001b[0;34m\u001b[0m\u001b[0m\n",
            "\u001b[0;32m/usr/lib/python3.7/threading.py\u001b[0m in \u001b[0;36mwait\u001b[0;34m(self, timeout)\u001b[0m\n\u001b[1;32m    294\u001b[0m         \u001b[0;32mtry\u001b[0m\u001b[0;34m:\u001b[0m    \u001b[0;31m# restore state no matter what (e.g., KeyboardInterrupt)\u001b[0m\u001b[0;34m\u001b[0m\u001b[0;34m\u001b[0m\u001b[0m\n\u001b[1;32m    295\u001b[0m             \u001b[0;32mif\u001b[0m \u001b[0mtimeout\u001b[0m \u001b[0;32mis\u001b[0m \u001b[0;32mNone\u001b[0m\u001b[0;34m:\u001b[0m\u001b[0;34m\u001b[0m\u001b[0;34m\u001b[0m\u001b[0m\n\u001b[0;32m--> 296\u001b[0;31m                 \u001b[0mwaiter\u001b[0m\u001b[0;34m.\u001b[0m\u001b[0macquire\u001b[0m\u001b[0;34m(\u001b[0m\u001b[0;34m)\u001b[0m\u001b[0;34m\u001b[0m\u001b[0;34m\u001b[0m\u001b[0m\n\u001b[0m\u001b[1;32m    297\u001b[0m                 \u001b[0mgotit\u001b[0m \u001b[0;34m=\u001b[0m \u001b[0;32mTrue\u001b[0m\u001b[0;34m\u001b[0m\u001b[0;34m\u001b[0m\u001b[0m\n\u001b[1;32m    298\u001b[0m             \u001b[0;32melse\u001b[0m\u001b[0;34m:\u001b[0m\u001b[0;34m\u001b[0m\u001b[0;34m\u001b[0m\u001b[0m\n",
            "\u001b[0;31mKeyboardInterrupt\u001b[0m: "
          ]
        }
      ],
      "source": [
        "#Randomized Search CV for lgbmc model\n",
        "n_estimators = randint(low = 100, high=300)\n",
        "max_depth = randint(low = 1, high=100)\n",
        "\n",
        "lgbmc_random_grid = {'n_estimators': n_estimators,\n",
        "                    'max_depth' : max_depth,\n",
        "                    'learning_rate' : [0.1,0.001,1]}\n",
        "\n",
        "lgbmc_randSearchCV = RandomizedSearchCV(estimator=LGBMC,\n",
        "                                        param_distributions=lgbmc_random_grid,\n",
        "                                        scoring='accuracy',\n",
        "                                        cv = kfold,\n",
        "                                        n_iter=20,\n",
        "                                        n_jobs = -1, verbose = 2)\n",
        "\n",
        "lgbmc_randSearchCV.fit(X_train_transformed, y_train)"
      ]
    },
    {
      "cell_type": "code",
      "execution_count": null,
      "metadata": {
        "id": "1KKUGaejIDjU"
      },
      "outputs": [],
      "source": [
        "print(lgbmc_randSearchCV.best_estimator_)\n",
        "print(\"=\"*80)\n",
        "print(lgbmc_randSearchCV.best_params_)\n",
        "print(\"=\"*80)\n",
        "print(lgbmc_randSearchCV.best_score_)"
      ]
    },
    {
      "cell_type": "code",
      "execution_count": null,
      "metadata": {
        "id": "OGhZMvCjIIc1"
      },
      "outputs": [],
      "source": [
        "# Grid Search CV for XGBoost\n",
        "lgbmc_param_grid = {\"n_estimators\" : list(np.arange(267,271)),\n",
        "                  \"max_depth\" :  list(np.arange(25,30)),\n",
        "                  'learning_rate' :[0.01]}\n",
        "\n",
        "\n",
        "lgbmc_GSC = GridSearchCV(LGBMC,\n",
        "                       param_grid = lgbmc_param_grid,\n",
        "                       scoring = 'accuracy',\n",
        "                       cv = kfold,\n",
        "                       n_jobs=-1, verbose=2)\n",
        "\n",
        "lgbmc_GSC.fit(X_train_transformed, y_train)"
      ]
    },
    {
      "cell_type": "code",
      "execution_count": null,
      "metadata": {
        "id": "jWPAPuFHIa2g"
      },
      "outputs": [],
      "source": [
        "print(lgbmc_GSC.best_estimator_)\n",
        "print(\"=\"*80)\n",
        "print(lgbmc_GSC.best_params_)\n",
        "print(\"=\"*80)\n",
        "print(lgbmc_GSC.best_score_)"
      ]
    },
    {
      "cell_type": "code",
      "execution_count": null,
      "metadata": {
        "id": "fBiIiWxAIyBr"
      },
      "outputs": [],
      "source": [
        "# Predict on test data using final XGB model\n",
        "lgbmc_final_model = lgbmc_GSC.best_estimator_\n",
        "X_test_prepared = full_pipeline.transform(x_test)\n",
        "\n",
        "lgbmc_final_predictions = lgbmc_final_model.predict(X_test_prepared)\n",
        "\n",
        "lgbmc_final_acc = accuracy_score(y_test, lgbmc_final_predictions)\n",
        "lgbmc_final_acc_mean = np.mean(lgbmc_final_acc)*100   \n",
        "\n",
        "acc_final['LightGBM'] = lgbmc_final_acc_mean\n",
        "lgbmc_final_acc_mean"
      ]
    },
    {
      "cell_type": "code",
      "execution_count": null,
      "metadata": {
        "id": "AHB-YQ9dcda9"
      },
      "outputs": [],
      "source": [
        "print(classification_report(y_test, lgbmc_final_predictions))"
      ]
    },
    {
      "cell_type": "code",
      "execution_count": null,
      "metadata": {
        "id": "1kJMcqHmJVl-"
      },
      "outputs": [],
      "source": [
        "filename ='/content/gdrive/MyDrive/Final Project/LightGBMClassifer.save_model'\n",
        "save_model(lgbmc_final_model,filename)"
      ]
    },
    {
      "cell_type": "markdown",
      "metadata": {
        "id": "Q2xoXzTD76uQ"
      },
      "source": [
        "### XG Boost"
      ]
    },
    {
      "cell_type": "code",
      "execution_count": null,
      "metadata": {
        "colab": {
          "base_uri": "https://localhost:8080/"
        },
        "id": "qbX-Yv_6783L",
        "outputId": "cdefc14c-4126-4d2b-8c41-ee9d21f46076"
      },
      "outputs": [
        {
          "name": "stdout",
          "output_type": "stream",
          "text": [
            "The accuracy is 0.70\n"
          ]
        },
        {
          "data": {
            "text/plain": [
              "{'base_score': 0.5,\n",
              " 'booster': 'gbtree',\n",
              " 'colsample_bylevel': 1,\n",
              " 'colsample_bynode': 1,\n",
              " 'colsample_bytree': 1,\n",
              " 'gamma': 0,\n",
              " 'learning_rate': 0.1,\n",
              " 'max_delta_step': 0,\n",
              " 'max_depth': 3,\n",
              " 'min_child_weight': 1,\n",
              " 'missing': None,\n",
              " 'n_estimators': 100,\n",
              " 'n_jobs': 1,\n",
              " 'nthread': None,\n",
              " 'objective': 'multi:softprob',\n",
              " 'random_state': 0,\n",
              " 'reg_alpha': 0,\n",
              " 'reg_lambda': 1,\n",
              " 'scale_pos_weight': 1,\n",
              " 'seed': None,\n",
              " 'silent': None,\n",
              " 'subsample': 1,\n",
              " 'verbosity': 1}"
            ]
          },
          "execution_count": 68,
          "metadata": {},
          "output_type": "execute_result"
        }
      ],
      "source": [
        "#Model\n",
        "model_xgb = train_model(XGB,X_train_transformed,y_train)\n",
        "model_xgb.get_params()"
      ]
    },
    {
      "cell_type": "code",
      "execution_count": null,
      "metadata": {
        "colab": {
          "base_uri": "https://localhost:8080/"
        },
        "id": "7QLDPeLz8w-q",
        "outputId": "29bf6eab-2f28-41df-85c5-b6bdad5a2589"
      },
      "outputs": [
        {
          "name": "stdout",
          "output_type": "stream",
          "text": [
            "Fitting 5 folds for each of 20 candidates, totalling 100 fits\n"
          ]
        },
        {
          "data": {
            "text/plain": [
              "RandomizedSearchCV(cv=KFold(n_splits=5, random_state=42, shuffle=True),\n",
              "                   estimator=XGBClassifier(), n_iter=20, n_jobs=-1,\n",
              "                   param_distributions={'learning_rate': [0.01, 0.01, 0.1],\n",
              "                                        'max_depth': <scipy.stats._distn_infrastructure.rv_frozen object at 0x7fbd5934a7d0>,\n",
              "                                        'n_estimators': <scipy.stats._distn_infrastructure.rv_frozen object at 0x7fbd5934a710>},\n",
              "                   scoring='accuracy', verbose=2)"
            ]
          },
          "execution_count": 69,
          "metadata": {},
          "output_type": "execute_result"
        }
      ],
      "source": [
        "#Randomized Search CV for XGBoost model\n",
        "n_estimators = randint(low=100, high=400)\n",
        "max_depth = randint(low=1, high=100)\n",
        "\n",
        "xgb_random_grid = {'n_estimators': n_estimators,\n",
        "                    'max_depth' : max_depth,\n",
        "                    'learning_rate' : [0.01,0.01,0.1]}\n",
        "\n",
        "xgb_randSearchCV = RandomizedSearchCV(estimator=XGBClassifier(),\n",
        "                                        param_distributions=xgb_random_grid,\n",
        "                                        scoring='accuracy',\n",
        "                                        cv = kfold,\n",
        "                                        n_iter=20,\n",
        "                                        n_jobs = -1, verbose = 2)\n",
        "\n",
        "xgb_randSearchCV.fit(X_train_transformed, y_train)"
      ]
    },
    {
      "cell_type": "code",
      "execution_count": null,
      "metadata": {
        "colab": {
          "base_uri": "https://localhost:8080/"
        },
        "id": "2Ktl0Q559M5r",
        "outputId": "175e62f2-8269-4f43-9e89-8dfbfb3a7f1b"
      },
      "outputs": [
        {
          "name": "stdout",
          "output_type": "stream",
          "text": [
            "XGBClassifier(max_depth=2, n_estimators=214, objective='multi:softprob')\n",
            "================================================================================\n",
            "{'learning_rate': 0.1, 'max_depth': 2, 'n_estimators': 214}\n",
            "================================================================================\n",
            "0.682599934173506\n"
          ]
        }
      ],
      "source": [
        "print(xgb_randSearchCV.best_estimator_)\n",
        "print(\"=\"*80)\n",
        "print(xgb_randSearchCV.best_params_)\n",
        "print(\"=\"*80)\n",
        "print(xgb_randSearchCV.best_score_)"
      ]
    },
    {
      "cell_type": "code",
      "execution_count": null,
      "metadata": {
        "colab": {
          "background_save": true,
          "base_uri": "https://localhost:8080/"
        },
        "id": "uC83R0pN9T4k",
        "outputId": "3d39db6e-f903-456d-b649-2e2897d2365a"
      },
      "outputs": [
        {
          "name": "stdout",
          "output_type": "stream",
          "text": [
            "Fitting 5 folds for each of 75 candidates, totalling 375 fits\n"
          ]
        }
      ],
      "source": [
        "# Grid Search CV for XGBoost\n",
        "xgb_param_grid = {\"n_estimators\" : list(np.arange(150,155)),\n",
        "                  \"max_depth\" :  list(np.arange(145,150)),\n",
        "                  'learning_rate' :[0.01, 0.01, 0.1]}\n",
        "\n",
        "\n",
        "xgb_GSC = GridSearchCV(XGBClassifier(),\n",
        "                       param_grid = xgb_param_grid,\n",
        "                       scoring = 'accuracy',\n",
        "                       cv = kfold,\n",
        "                       n_jobs=-1, verbose=2)\n",
        "\n",
        "xgb_GSC.fit(X_train_transformed, y_train)"
      ]
    },
    {
      "cell_type": "code",
      "execution_count": null,
      "metadata": {
        "id": "USDgjWIl9Vm1"
      },
      "outputs": [],
      "source": [
        "print(xgb_GSC.best_estimator_)\n",
        "print(\"=\"*80)\n",
        "print(xgb_GSC.best_params_)\n",
        "print(\"=\"*80)\n",
        "print(xgb_GSC.best_score_)"
      ]
    },
    {
      "cell_type": "code",
      "execution_count": null,
      "metadata": {
        "id": "SV87IFwH9YBe"
      },
      "outputs": [],
      "source": [
        "# Predict on test data using final XGB model\n",
        "xgb_final_model = xgb_GSC.best_estimator_\n",
        "X_test_prepared = full_pipeline.transform(x_test)\n",
        "\n",
        "xgb_final_predictions = xgb_final_model.predict(X_test_prepared)\n",
        "\n",
        "xgb_final_acc = accuracy_score(y_test, xgb_final_predictions)\n",
        "xgb_final_acc_mean = np.mean(xgb_final_acc)*100   \n",
        "\n",
        "acc_final['XG Boost'] = xgb_final_acc_mean\n",
        "xgb_final_acc_mean"
      ]
    },
    {
      "cell_type": "code",
      "execution_count": null,
      "metadata": {
        "id": "JFmaId6U0Ima"
      },
      "outputs": [],
      "source": [
        "print(classification_report(y_test, xgb_final_predictions))"
      ]
    },
    {
      "cell_type": "code",
      "execution_count": null,
      "metadata": {
        "id": "-xY8HjcIiMWb"
      },
      "outputs": [],
      "source": [
        "filename ='/content/gdrive/MyDrive/Final Project/XGBoostClassifier.save_model'\n",
        "save_model(xgb_final_model,filename)"
      ]
    },
    {
      "cell_type": "code",
      "execution_count": null,
      "metadata": {
        "id": "hXE3jcKKQJiK"
      },
      "outputs": [],
      "source": [
        "xgb_final_model = pickle.load(open('/content/gdrive/MyDrive/Final Project/XGBoostClassifier.sav', 'rb'))"
      ]
    },
    {
      "cell_type": "code",
      "execution_count": null,
      "metadata": {
        "id": "gSqDrbRmT34M"
      },
      "outputs": [],
      "source": [
        "filename ='/content/gdrive/MyDrive/Final Project/XGBoostClassifier.save_model'"
      ]
    },
    {
      "cell_type": "code",
      "execution_count": null,
      "metadata": {
        "id": "0s86zQTvV6wF"
      },
      "outputs": [],
      "source": [
        "xgb_final_model.save_model(filename)"
      ]
    },
    {
      "cell_type": "markdown",
      "metadata": {
        "id": "JY9JwuXcN961"
      },
      "source": [
        "### Gradient Boosting"
      ]
    },
    {
      "cell_type": "code",
      "execution_count": null,
      "metadata": {
        "id": "KpIDwGQLOGxB"
      },
      "outputs": [],
      "source": [
        "#Model\n",
        "model_gbc = train_model(GBC,X_train_transformed,y_train)\n",
        "model_gbc.get_params()"
      ]
    },
    {
      "cell_type": "code",
      "execution_count": null,
      "metadata": {
        "id": "H0Ab-KY5Pl2_"
      },
      "outputs": [],
      "source": [
        "#Randomized Search CV for Gradient Boost Classifier model\n",
        "\n",
        "gbc_random_grid = {'learning_rate': [0.001,0.01,0.1],\n",
        "              'max_depth': randint(low=3, high=15),\n",
        "              'n_estimators': randint(low=130, high=200)}\n",
        "              \n",
        "\n",
        "gbc_randSearchCV = RandomizedSearchCV(estimator=GBC,\n",
        "                                        param_distributions=gbc_random_grid,\n",
        "                                        scoring='accuracy',\n",
        "                                        cv = kfold,\n",
        "                                        n_iter=20,\n",
        "                                        n_jobs = -1, verbose = 2)\n",
        "\n",
        "gbc_randSearchCV.fit(X_train_transformed, y_train)"
      ]
    },
    {
      "cell_type": "code",
      "execution_count": null,
      "metadata": {
        "id": "FzPbbQ5Xdk2Y"
      },
      "outputs": [],
      "source": [
        "print(gbc_randSearchCV.best_estimator_)\n",
        "print(\"=\"*80)\n",
        "print(gbc_randSearchCV.best_params_)\n",
        "print(\"=\"*80)\n",
        "print(gbc_randSearchCV.best_score_)"
      ]
    },
    {
      "cell_type": "code",
      "execution_count": null,
      "metadata": {
        "id": "-wydWrolQj9K"
      },
      "outputs": [],
      "source": [
        "# Grid Search CV for Gradient Boosting Classifier\n",
        "gbc_param_grid = {'learning_rate': [0.001],\n",
        "              'max_depth': np.arange(3,7),\n",
        "              'n_estimators': np.arange(135,140)}\n",
        "\n",
        "\n",
        "gbc_GSC = GridSearchCV(GBC,\n",
        "                       param_grid = gbc_param_grid,\n",
        "                       scoring = 'accuracy',\n",
        "                       cv = kfold,\n",
        "                       n_jobs=-1, verbose=2)\n",
        "\n",
        "gbc_GSC.fit(X_train_transformed, y_train)"
      ]
    },
    {
      "cell_type": "code",
      "execution_count": null,
      "metadata": {
        "id": "EHRWO4iZphA4"
      },
      "outputs": [],
      "source": [
        "print(gbc_GSC.best_estimator_)\n",
        "print(\"=\"*80)\n",
        "print(gbc_GSC.best_params_)\n",
        "print(\"=\"*80)\n",
        "print(gbc_GSC.best_score_)"
      ]
    },
    {
      "cell_type": "code",
      "execution_count": null,
      "metadata": {
        "id": "t0wQKFO_wAaK"
      },
      "outputs": [],
      "source": [
        "# Predict on test data using final Gradient Boost Classifier\n",
        "gbc_final_model = gbc_GSC.best_estimator_\n",
        "X_test_prepared = full_pipeline.transform(x_test)\n",
        "\n",
        "gbc_final_predictions = gbc_final_model.predict(X_test_prepared)\n",
        "\n",
        "gbc_final_acc = accuracy_score(y_test, gbc_final_predictions)\n",
        "gbc_final_acc_mean = np.mean(gbc_final_acc)*100  \n",
        "\n",
        "acc_final['Gradient Boosting'] = gbc_final_acc_mean\n",
        "gbc_final_acc_mean"
      ]
    },
    {
      "cell_type": "code",
      "execution_count": null,
      "metadata": {
        "id": "kPAJWfZ621A3"
      },
      "outputs": [],
      "source": [
        "print(classification_report(y_test, gbc_final_predictions))"
      ]
    },
    {
      "cell_type": "code",
      "execution_count": null,
      "metadata": {
        "id": "9-h__OKoWLuk"
      },
      "outputs": [],
      "source": [
        "filename ='/content/gdrive/MyDrive/Final Project/GradientBoostClassifier.sav'\n",
        "save_model(gbc_final_model,filename)"
      ]
    },
    {
      "cell_type": "markdown",
      "metadata": {
        "id": "g6gZEii8VhiI"
      },
      "source": [
        "### KNeighbors Classifier"
      ]
    },
    {
      "cell_type": "code",
      "execution_count": null,
      "metadata": {
        "id": "adc_Y-UCVlX_"
      },
      "outputs": [],
      "source": [
        "#Model\n",
        "model_knn = train_model(KNN,X_train_transformed,y_train)\n",
        "model_knn.get_params()"
      ]
    },
    {
      "cell_type": "code",
      "execution_count": null,
      "metadata": {
        "id": "TtVTJeb4w1vU"
      },
      "outputs": [],
      "source": [
        "# Randomized Search CV\n",
        "k_neighbors = list(np.arange(1, 31, 2))\n",
        "weight_options = ['uniform', 'distance']\n",
        "\n",
        "knn_random_grid = {\"n_neighbors\" : k_neighbors,\n",
        "                   \"weights\" : weight_options}\n",
        "\n",
        "knn_randSearchCV = RandomizedSearchCV(estimator=KNN,\n",
        "                                        param_distributions=knn_random_grid,\n",
        "                                        scoring='accuracy',\n",
        "                                        cv = stratified_kfold,\n",
        "                                        n_jobs = -1, verbose = 2)                   \n",
        "\n",
        "knn_randSearchCV.fit(X_train_transformed, y_train)"
      ]
    },
    {
      "cell_type": "code",
      "execution_count": null,
      "metadata": {
        "id": "MTJNGjdcxNLd"
      },
      "outputs": [],
      "source": [
        "print(knn_randSearchCV.best_estimator_)\n",
        "print(\"=\"*80)\n",
        "print(knn_randSearchCV.best_params_)\n",
        "print(\"=\"*80)\n",
        "print(knn_randSearchCV.best_score_)"
      ]
    },
    {
      "cell_type": "code",
      "execution_count": null,
      "metadata": {
        "id": "0arjcpZPxR2T"
      },
      "outputs": [],
      "source": [
        "# Grid Search CV\n",
        "knn_param_grid = {\"n_neighbors\" : list(np.arange(37,40)),\n",
        "                  \"weights\" : [\"uniform\"],\n",
        "                  'leaf_size': list(np.arange(30,35))}\n",
        "\n",
        "knn_GSC = GridSearchCV(KNN,\n",
        "                       param_grid = knn_param_grid,\n",
        "                       scoring = 'accuracy',\n",
        "                       cv = stratified_kfold,\n",
        "                       n_jobs=-1, verbose=2)\n",
        "\n",
        "knn_GSC.fit(X_train_transformed, y_train)"
      ]
    },
    {
      "cell_type": "code",
      "execution_count": null,
      "metadata": {
        "id": "JUueoWtfxn3s"
      },
      "outputs": [],
      "source": [
        "print(knn_GSC.best_estimator_)\n",
        "print(\"=\"*80)\n",
        "print(knn_GSC.best_params_)\n",
        "print(\"=\"*80)\n",
        "print(knn_GSC.best_score_)"
      ]
    },
    {
      "cell_type": "code",
      "execution_count": null,
      "metadata": {
        "id": "Sdjv11Qixvp8"
      },
      "outputs": [],
      "source": [
        "# Predict on test data using final KNN \n",
        "knn_final_model = knn_GSC.best_estimator_\n",
        "X_test_prepared = full_pipeline.transform(x_test)\n",
        "\n",
        "knn_final_predictions = knn_final_model.predict(X_test_prepared)\n",
        "\n",
        "knn_final_acc = accuracy_score(y_test, knn_final_predictions)\n",
        "knn_final_acc_mean = np.mean(knn_final_acc)*100  \n",
        "\n",
        "acc_final['KNeighborsClassifier'] = knn_final_acc_mean\n",
        "knn_final_acc_mean"
      ]
    },
    {
      "cell_type": "code",
      "execution_count": null,
      "metadata": {
        "id": "EJFhkYkY2_yP"
      },
      "outputs": [],
      "source": [
        "print(classification_report(y_test, knn_final_predictions))"
      ]
    },
    {
      "cell_type": "code",
      "execution_count": null,
      "metadata": {
        "id": "pxyKecRuWdiR"
      },
      "outputs": [],
      "source": [
        "filename ='/content/gdrive/MyDrive/Final Project/KNN.sav'\n",
        "save_model(knn_final_model,filename)"
      ]
    },
    {
      "cell_type": "markdown",
      "metadata": {
        "id": "S0fyrm2Emflo"
      },
      "source": [
        "### Random Forest"
      ]
    },
    {
      "cell_type": "code",
      "execution_count": null,
      "metadata": {
        "id": "mMe3IfyTFl1G"
      },
      "outputs": [],
      "source": [
        "#Model\n",
        "model_rfc = train_model(RFC,X_train_transformed,y_train)\n",
        "model_rfc.get_params()"
      ]
    },
    {
      "cell_type": "code",
      "execution_count": null,
      "metadata": {
        "id": "5PlMNXi5s0eC"
      },
      "outputs": [],
      "source": [
        "n_estimators = [int(x) for x in np.linspace(5,300,6)]\n",
        "max_features = ['auto', 'sqrt', 'log2']\n",
        "max_depth = [int(x) for x in np.linspace(10, 120, 12)]\n",
        "max_depth.append(None)\n",
        "min_samples_leaf = [2, 4, 8, 16]\n",
        "bootstrap = [True, False]\n",
        "\n",
        "# Create the random grid\n",
        "rfc_random_grid = {'n_estimators': n_estimators,\n",
        "               'max_features': max_features,\n",
        "               'max_depth': max_depth,\n",
        "               'min_samples_leaf': min_samples_leaf,\n",
        "               'bootstrap': bootstrap}\n",
        "\n",
        "rfc_randSearchCV = RandomizedSearchCV(estimator=RFC,\n",
        "                                        param_distributions=rfc_random_grid,\n",
        "                                        scoring='accuracy',\n",
        "                                        cv = kfold,\n",
        "                                        n_jobs = -1, verbose = 2)\n",
        "\n",
        "rfc_randSearchCV.fit(X_train_transformed, y_train)"
      ]
    },
    {
      "cell_type": "code",
      "execution_count": null,
      "metadata": {
        "id": "kif-F-aprbTG"
      },
      "outputs": [],
      "source": [
        "print(rfc_randSearchCV.best_estimator_)\n",
        "print(\"=\"*80)\n",
        "print(rfc_randSearchCV.best_params_)\n",
        "print(\"=\"*80)\n",
        "print(rfc_randSearchCV.best_score_)"
      ]
    },
    {
      "cell_type": "code",
      "execution_count": null,
      "metadata": {
        "id": "U3Rctj6FsXc9"
      },
      "outputs": [],
      "source": [
        "# Grid Search CV for Random Forest Classifier\n",
        "rfc_param_grid = {\"n_estimators\" : np.arange(64,68),\n",
        "                  \"max_features\" : ['auto'],\n",
        "                  \"max_depth\" :  np.arange(40,45),\n",
        "                  \"min_samples_leaf\" : [7,8,9]}\n",
        "\n",
        "\n",
        "rfc_GSC = GridSearchCV(RFC,\n",
        "                       param_grid = rfc_param_grid,\n",
        "                       scoring = 'accuracy',\n",
        "                       cv = kfold,\n",
        "                       n_jobs=-1, verbose=2)\n",
        "\n",
        "rfc_GSC.fit(X_train_transformed, y_train)\n",
        "\n",
        "print(rfc_GSC.best_estimator_)\n",
        "print(\"=\"*80)\n",
        "print(rfc_GSC.best_params_)\n",
        "print(\"=\"*80)\n",
        "print(rfc_GSC.best_score_)"
      ]
    },
    {
      "cell_type": "code",
      "execution_count": null,
      "metadata": {
        "id": "yY4ESWvB7NTV"
      },
      "outputs": [],
      "source": [
        "# Predict on test data using final Random Forest Classifier\n",
        "rfc_final_model = rfc_GSC.best_estimator_\n",
        "X_test_prepared = full_pipeline.transform(x_test)\n",
        "\n",
        "rfc_final_predictions = rfc_final_model.predict(X_test_prepared)\n",
        "\n",
        "rfc_final_acc = accuracy_score(y_test, rfc_final_predictions)\n",
        "rfc_final_acc_mean = np.mean(rfc_final_acc)*100   \n",
        "\n",
        "acc_final[\"Random Forest\"] = rfc_final_acc_mean\n",
        "rfc_final_acc_mean"
      ]
    },
    {
      "cell_type": "code",
      "execution_count": null,
      "metadata": {
        "id": "AGcCYiis3bQk"
      },
      "outputs": [],
      "source": [
        "print(classification_report(y_test, rfc_final_predictions))"
      ]
    },
    {
      "cell_type": "code",
      "execution_count": null,
      "metadata": {
        "id": "5m-AEeDTWmlJ"
      },
      "outputs": [],
      "source": [
        "filename ='/content/gdrive/MyDrive/Final Project/RandomForestClassifier.sav'\n",
        "save_model(rfc_final_model,filename)"
      ]
    },
    {
      "cell_type": "markdown",
      "metadata": {
        "id": "91-Y4h_w2CV-"
      },
      "source": [
        "## Models Comparison after tuned"
      ]
    },
    {
      "cell_type": "code",
      "execution_count": null,
      "metadata": {
        "colab": {
          "base_uri": "https://localhost:8080/",
          "height": 206
        },
        "id": "rM60_jcL2FtV",
        "outputId": "c4c88be0-040f-41fc-ee60-6879f8869d1b"
      },
      "outputs": [
        {
          "data": {
            "text/html": [
              "\n",
              "  <div id=\"df-066b007a-7988-43ea-9430-95c203060f32\">\n",
              "    <div class=\"colab-df-container\">\n",
              "      <div>\n",
              "<style scoped>\n",
              "    .dataframe tbody tr th:only-of-type {\n",
              "        vertical-align: middle;\n",
              "    }\n",
              "\n",
              "    .dataframe tbody tr th {\n",
              "        vertical-align: top;\n",
              "    }\n",
              "\n",
              "    .dataframe thead th {\n",
              "        text-align: right;\n",
              "    }\n",
              "</style>\n",
              "<table border=\"1\" class=\"dataframe\">\n",
              "  <thead>\n",
              "    <tr style=\"text-align: right;\">\n",
              "      <th></th>\n",
              "      <th>Classifiers</th>\n",
              "      <th>Accuracy_tuned</th>\n",
              "    </tr>\n",
              "  </thead>\n",
              "  <tbody>\n",
              "    <tr>\n",
              "      <th>0</th>\n",
              "      <td>LightGBM</td>\n",
              "      <td>66.199505</td>\n",
              "    </tr>\n",
              "    <tr>\n",
              "      <th>1</th>\n",
              "      <td>Gradient Boosting</td>\n",
              "      <td>66.694147</td>\n",
              "    </tr>\n",
              "    <tr>\n",
              "      <th>2</th>\n",
              "      <td>Random Forest</td>\n",
              "      <td>66.859027</td>\n",
              "    </tr>\n",
              "    <tr>\n",
              "      <th>3</th>\n",
              "      <td>XG Boost</td>\n",
              "      <td>66.859027</td>\n",
              "    </tr>\n",
              "    <tr>\n",
              "      <th>4</th>\n",
              "      <td>KNeighborsClassifier</td>\n",
              "      <td>67.271228</td>\n",
              "    </tr>\n",
              "  </tbody>\n",
              "</table>\n",
              "</div>\n",
              "      <button class=\"colab-df-convert\" onclick=\"convertToInteractive('df-066b007a-7988-43ea-9430-95c203060f32')\"\n",
              "              title=\"Convert this dataframe to an interactive table.\"\n",
              "              style=\"display:none;\">\n",
              "        \n",
              "  <svg xmlns=\"http://www.w3.org/2000/svg\" height=\"24px\"viewBox=\"0 0 24 24\"\n",
              "       width=\"24px\">\n",
              "    <path d=\"M0 0h24v24H0V0z\" fill=\"none\"/>\n",
              "    <path d=\"M18.56 5.44l.94 2.06.94-2.06 2.06-.94-2.06-.94-.94-2.06-.94 2.06-2.06.94zm-11 1L8.5 8.5l.94-2.06 2.06-.94-2.06-.94L8.5 2.5l-.94 2.06-2.06.94zm10 10l.94 2.06.94-2.06 2.06-.94-2.06-.94-.94-2.06-.94 2.06-2.06.94z\"/><path d=\"M17.41 7.96l-1.37-1.37c-.4-.4-.92-.59-1.43-.59-.52 0-1.04.2-1.43.59L10.3 9.45l-7.72 7.72c-.78.78-.78 2.05 0 2.83L4 21.41c.39.39.9.59 1.41.59.51 0 1.02-.2 1.41-.59l7.78-7.78 2.81-2.81c.8-.78.8-2.07 0-2.86zM5.41 20L4 18.59l7.72-7.72 1.47 1.35L5.41 20z\"/>\n",
              "  </svg>\n",
              "      </button>\n",
              "      \n",
              "  <style>\n",
              "    .colab-df-container {\n",
              "      display:flex;\n",
              "      flex-wrap:wrap;\n",
              "      gap: 12px;\n",
              "    }\n",
              "\n",
              "    .colab-df-convert {\n",
              "      background-color: #E8F0FE;\n",
              "      border: none;\n",
              "      border-radius: 50%;\n",
              "      cursor: pointer;\n",
              "      display: none;\n",
              "      fill: #1967D2;\n",
              "      height: 32px;\n",
              "      padding: 0 0 0 0;\n",
              "      width: 32px;\n",
              "    }\n",
              "\n",
              "    .colab-df-convert:hover {\n",
              "      background-color: #E2EBFA;\n",
              "      box-shadow: 0px 1px 2px rgba(60, 64, 67, 0.3), 0px 1px 3px 1px rgba(60, 64, 67, 0.15);\n",
              "      fill: #174EA6;\n",
              "    }\n",
              "\n",
              "    [theme=dark] .colab-df-convert {\n",
              "      background-color: #3B4455;\n",
              "      fill: #D2E3FC;\n",
              "    }\n",
              "\n",
              "    [theme=dark] .colab-df-convert:hover {\n",
              "      background-color: #434B5C;\n",
              "      box-shadow: 0px 1px 3px 1px rgba(0, 0, 0, 0.15);\n",
              "      filter: drop-shadow(0px 1px 2px rgba(0, 0, 0, 0.3));\n",
              "      fill: #FFFFFF;\n",
              "    }\n",
              "  </style>\n",
              "\n",
              "      <script>\n",
              "        const buttonEl =\n",
              "          document.querySelector('#df-066b007a-7988-43ea-9430-95c203060f32 button.colab-df-convert');\n",
              "        buttonEl.style.display =\n",
              "          google.colab.kernel.accessAllowed ? 'block' : 'none';\n",
              "\n",
              "        async function convertToInteractive(key) {\n",
              "          const element = document.querySelector('#df-066b007a-7988-43ea-9430-95c203060f32');\n",
              "          const dataTable =\n",
              "            await google.colab.kernel.invokeFunction('convertToInteractive',\n",
              "                                                     [key], {});\n",
              "          if (!dataTable) return;\n",
              "\n",
              "          const docLinkHtml = 'Like what you see? Visit the ' +\n",
              "            '<a target=\"_blank\" href=https://colab.research.google.com/notebooks/data_table.ipynb>data table notebook</a>'\n",
              "            + ' to learn more about interactive tables.';\n",
              "          element.innerHTML = '';\n",
              "          dataTable['output_type'] = 'display_data';\n",
              "          await google.colab.output.renderOutput(dataTable, element);\n",
              "          const docLink = document.createElement('div');\n",
              "          docLink.innerHTML = docLinkHtml;\n",
              "          element.appendChild(docLink);\n",
              "        }\n",
              "      </script>\n",
              "    </div>\n",
              "  </div>\n",
              "  "
            ],
            "text/plain": [
              "            Classifiers  Accuracy_tuned\n",
              "0              LightGBM       66.199505\n",
              "1     Gradient Boosting       66.694147\n",
              "2         Random Forest       66.859027\n",
              "3              XG Boost       66.859027\n",
              "4  KNeighborsClassifier       67.271228"
            ]
          },
          "execution_count": 256,
          "metadata": {},
          "output_type": "execute_result"
        }
      ],
      "source": [
        "acc_tuned = pd.DataFrame.from_dict(acc_final, orient='index').reset_index()\n",
        "acc_tuned.columns = [\"Classifiers\",\"Accuracy_tuned\"]\n",
        "acc_tuned = acc_tuned.sort_values(\"Accuracy_tuned\").reset_index(drop=True)\n",
        "acc_tuned"
      ]
    },
    {
      "cell_type": "code",
      "execution_count": null,
      "metadata": {
        "colab": {
          "base_uri": "https://localhost:8080/",
          "height": 206
        },
        "id": "0hzNxRmW2M7s",
        "outputId": "78dfc016-61b0-4b0b-c65d-c0e6f1612254"
      },
      "outputs": [
        {
          "data": {
            "text/html": [
              "\n",
              "  <div id=\"df-5d9c4394-98d3-445d-a243-994fc6853b18\">\n",
              "    <div class=\"colab-df-container\">\n",
              "      <div>\n",
              "<style scoped>\n",
              "    .dataframe tbody tr th:only-of-type {\n",
              "        vertical-align: middle;\n",
              "    }\n",
              "\n",
              "    .dataframe tbody tr th {\n",
              "        vertical-align: top;\n",
              "    }\n",
              "\n",
              "    .dataframe thead th {\n",
              "        text-align: right;\n",
              "    }\n",
              "</style>\n",
              "<table border=\"1\" class=\"dataframe\">\n",
              "  <thead>\n",
              "    <tr style=\"text-align: right;\">\n",
              "      <th></th>\n",
              "      <th>Classifiers</th>\n",
              "      <th>Accuracy</th>\n",
              "      <th>Accuracy_tuned</th>\n",
              "    </tr>\n",
              "  </thead>\n",
              "  <tbody>\n",
              "    <tr>\n",
              "      <th>0</th>\n",
              "      <td>Random Forest</td>\n",
              "      <td>64.756622</td>\n",
              "      <td>66.859027</td>\n",
              "    </tr>\n",
              "    <tr>\n",
              "      <th>1</th>\n",
              "      <td>XG Boost</td>\n",
              "      <td>68.631488</td>\n",
              "      <td>66.859027</td>\n",
              "    </tr>\n",
              "    <tr>\n",
              "      <th>2</th>\n",
              "      <td>Gradient Boosting</td>\n",
              "      <td>67.930585</td>\n",
              "      <td>66.694147</td>\n",
              "    </tr>\n",
              "    <tr>\n",
              "      <th>3</th>\n",
              "      <td>KNeighborsClassifier</td>\n",
              "      <td>66.817650</td>\n",
              "      <td>67.271228</td>\n",
              "    </tr>\n",
              "    <tr>\n",
              "      <th>4</th>\n",
              "      <td>LightGBM</td>\n",
              "      <td>67.167932</td>\n",
              "      <td>66.199505</td>\n",
              "    </tr>\n",
              "  </tbody>\n",
              "</table>\n",
              "</div>\n",
              "      <button class=\"colab-df-convert\" onclick=\"convertToInteractive('df-5d9c4394-98d3-445d-a243-994fc6853b18')\"\n",
              "              title=\"Convert this dataframe to an interactive table.\"\n",
              "              style=\"display:none;\">\n",
              "        \n",
              "  <svg xmlns=\"http://www.w3.org/2000/svg\" height=\"24px\"viewBox=\"0 0 24 24\"\n",
              "       width=\"24px\">\n",
              "    <path d=\"M0 0h24v24H0V0z\" fill=\"none\"/>\n",
              "    <path d=\"M18.56 5.44l.94 2.06.94-2.06 2.06-.94-2.06-.94-.94-2.06-.94 2.06-2.06.94zm-11 1L8.5 8.5l.94-2.06 2.06-.94-2.06-.94L8.5 2.5l-.94 2.06-2.06.94zm10 10l.94 2.06.94-2.06 2.06-.94-2.06-.94-.94-2.06-.94 2.06-2.06.94z\"/><path d=\"M17.41 7.96l-1.37-1.37c-.4-.4-.92-.59-1.43-.59-.52 0-1.04.2-1.43.59L10.3 9.45l-7.72 7.72c-.78.78-.78 2.05 0 2.83L4 21.41c.39.39.9.59 1.41.59.51 0 1.02-.2 1.41-.59l7.78-7.78 2.81-2.81c.8-.78.8-2.07 0-2.86zM5.41 20L4 18.59l7.72-7.72 1.47 1.35L5.41 20z\"/>\n",
              "  </svg>\n",
              "      </button>\n",
              "      \n",
              "  <style>\n",
              "    .colab-df-container {\n",
              "      display:flex;\n",
              "      flex-wrap:wrap;\n",
              "      gap: 12px;\n",
              "    }\n",
              "\n",
              "    .colab-df-convert {\n",
              "      background-color: #E8F0FE;\n",
              "      border: none;\n",
              "      border-radius: 50%;\n",
              "      cursor: pointer;\n",
              "      display: none;\n",
              "      fill: #1967D2;\n",
              "      height: 32px;\n",
              "      padding: 0 0 0 0;\n",
              "      width: 32px;\n",
              "    }\n",
              "\n",
              "    .colab-df-convert:hover {\n",
              "      background-color: #E2EBFA;\n",
              "      box-shadow: 0px 1px 2px rgba(60, 64, 67, 0.3), 0px 1px 3px 1px rgba(60, 64, 67, 0.15);\n",
              "      fill: #174EA6;\n",
              "    }\n",
              "\n",
              "    [theme=dark] .colab-df-convert {\n",
              "      background-color: #3B4455;\n",
              "      fill: #D2E3FC;\n",
              "    }\n",
              "\n",
              "    [theme=dark] .colab-df-convert:hover {\n",
              "      background-color: #434B5C;\n",
              "      box-shadow: 0px 1px 3px 1px rgba(0, 0, 0, 0.15);\n",
              "      filter: drop-shadow(0px 1px 2px rgba(0, 0, 0, 0.3));\n",
              "      fill: #FFFFFF;\n",
              "    }\n",
              "  </style>\n",
              "\n",
              "      <script>\n",
              "        const buttonEl =\n",
              "          document.querySelector('#df-5d9c4394-98d3-445d-a243-994fc6853b18 button.colab-df-convert');\n",
              "        buttonEl.style.display =\n",
              "          google.colab.kernel.accessAllowed ? 'block' : 'none';\n",
              "\n",
              "        async function convertToInteractive(key) {\n",
              "          const element = document.querySelector('#df-5d9c4394-98d3-445d-a243-994fc6853b18');\n",
              "          const dataTable =\n",
              "            await google.colab.kernel.invokeFunction('convertToInteractive',\n",
              "                                                     [key], {});\n",
              "          if (!dataTable) return;\n",
              "\n",
              "          const docLinkHtml = 'Like what you see? Visit the ' +\n",
              "            '<a target=\"_blank\" href=https://colab.research.google.com/notebooks/data_table.ipynb>data table notebook</a>'\n",
              "            + ' to learn more about interactive tables.';\n",
              "          element.innerHTML = '';\n",
              "          dataTable['output_type'] = 'display_data';\n",
              "          await google.colab.output.renderOutput(dataTable, element);\n",
              "          const docLink = document.createElement('div');\n",
              "          docLink.innerHTML = docLinkHtml;\n",
              "          element.appendChild(docLink);\n",
              "        }\n",
              "      </script>\n",
              "    </div>\n",
              "  </div>\n",
              "  "
            ],
            "text/plain": [
              "            Classifiers   Accuracy  Accuracy_tuned\n",
              "0         Random Forest  64.756622       66.859027\n",
              "1              XG Boost  68.631488       66.859027\n",
              "2     Gradient Boosting  67.930585       66.694147\n",
              "3  KNeighborsClassifier  66.817650       67.271228\n",
              "4              LightGBM  67.167932       66.199505"
            ]
          },
          "execution_count": 270,
          "metadata": {},
          "output_type": "execute_result"
        }
      ],
      "source": [
        "acc_table = pd.merge(acc_df, acc_tuned, how=\"inner\", on=\"Classifiers\")\n",
        "acc_table"
      ]
    },
    {
      "cell_type": "code",
      "execution_count": null,
      "metadata": {
        "colab": {
          "base_uri": "https://localhost:8080/",
          "height": 518
        },
        "id": "eigu6dj-4Msk",
        "outputId": "a1415266-557d-4656-fba6-2286078bae2b"
      },
      "outputs": [
        {
          "data": {
            "text/plain": [
              "<matplotlib.axes._subplots.AxesSubplot at 0x7f442fcc4d50>"
            ]
          },
          "execution_count": 258,
          "metadata": {},
          "output_type": "execute_result"
        },
        {
          "data": {
            "image/png": "[encoded data removed]",
            "text/plain": [
              "<Figure size 720x432 with 1 Axes>"
            ]
          },
          "metadata": {},
          "output_type": "display_data"
        }
      ],
      "source": [
        "acc_table.sort_values(\"Accuracy_tuned\",ascending=False).plot(x=\"Classifiers\",\n",
        "                y=[\"Accuracy\",\"Accuracy_tuned\"],\n",
        "                kind=\"bar\",\n",
        "                figsize=(10,6))"
      ]
    },
    {
      "cell_type": "markdown",
      "metadata": {
        "id": "APNA6O4RWtV6"
      },
      "source": [
        "## Feature impotance"
      ]
    },
    {
      "cell_type": "code",
      "execution_count": null,
      "metadata": {
        "colab": {
          "base_uri": "https://localhost:8080/"
        },
        "id": "eXjVVTbHWxO3",
        "outputId": "6bcf8982-7b68-4e91-82bf-7f8ceb2bd176"
      },
      "outputs": [
        {
          "data": {
            "text/plain": [
              "XGBClassifier(learning_rate=0.01, max_depth=5, missing=nan, n_estimators=161,\n",
              "              objective='multi:softprob')"
            ]
          },
          "execution_count": 143,
          "metadata": {},
          "output_type": "execute_result"
        }
      ],
      "source": [
        "xgb_final_model.fit(X_train_transformed, y_train) "
      ]
    },
    {
      "cell_type": "code",
      "execution_count": null,
      "metadata": {
        "id": "Ji2ohGgMWzl_"
      },
      "outputs": [],
      "source": [
        "predict_test = xgb_final_model.predict(X_test_transformed)"
      ]
    },
    {
      "cell_type": "code",
      "execution_count": null,
      "metadata": {
        "colab": {
          "base_uri": "https://localhost:8080/"
        },
        "id": "S2-QKNUCW0c8",
        "outputId": "e1f1c796-7ba3-48c0-ef57-bd7132decf9d"
      },
      "outputs": [
        {
          "data": {
            "text/plain": [
              "0.6669047376118084"
            ]
          },
          "execution_count": 145,
          "metadata": {},
          "output_type": "execute_result"
        }
      ],
      "source": [
        "acc_xgb = acc_score(xgb_final_model,X_test_transformed, y_test, scoring='accuracy')\n",
        "acc_xgb"
      ]
    },
    {
      "cell_type": "code",
      "execution_count": null,
      "metadata": {
        "colab": {
          "base_uri": "https://localhost:8080/"
        },
        "id": "f9j29rUIW-0p",
        "outputId": "b2eb3206-a5a2-4d75-d538-0b8def4efa62"
      },
      "outputs": [
        {
          "data": {
            "text/plain": [
              "array([0.02461467, 0.01115528, 0.00863392, 0.00718216, 0.01729907,\n",
              "       0.01207016, 0.01870702, 0.01608872, 0.00818464, 0.02702071,\n",
              "       0.01500821, 0.01552257, 0.03705075, 0.05168052, 0.01664945,\n",
              "       0.01300695, 0.01881617, 0.00042025, 0.01688991, 0.        ,\n",
              "       0.        , 0.        , 0.        , 0.02110962, 0.        ,\n",
              "       0.20758636, 0.08750139, 0.00805732, 0.        , 0.01770721,\n",
              "       0.        , 0.        , 0.01804804, 0.01059375, 0.        ,\n",
              "       0.12258548, 0.0204109 , 0.03466636, 0.08809322, 0.02763926],\n",
              "      dtype=float32)"
            ]
          },
          "execution_count": 146,
          "metadata": {},
          "output_type": "execute_result"
        }
      ],
      "source": [
        "xgb_feature_importance = xgb_final_model.feature_importances_\n",
        "xgb_feature_importance "
      ]
    },
    {
      "cell_type": "code",
      "execution_count": null,
      "metadata": {
        "id": "Fb25-506Om5-"
      },
      "outputs": [],
      "source": [
        "categorical = list(full_pipeline.named_transformers_['cat'].get_feature_names_out())"
      ]
    },
    {
      "cell_type": "code",
      "execution_count": null,
      "metadata": {
        "id": "pwOvdyagYDc4"
      },
      "outputs": [],
      "source": [
        "attributes = numerical + categorical"
      ]
    },
    {
      "cell_type": "code",
      "execution_count": null,
      "metadata": {
        "id": "Y9rtPgenVu2B"
      },
      "outputs": [],
      "source": [
        "df_import = pd.DataFrame(sorted(zip(xgb_feature_importance,attributes),reverse=True))"
      ]
    },
    {
      "cell_type": "code",
      "execution_count": null,
      "metadata": {
        "colab": {
          "base_uri": "https://localhost:8080/",
          "height": 653
        },
        "id": "6VcAR6unVmgz",
        "outputId": "cc2f76d7-1657-47ec-a0e8-b725101b39ba"
      },
      "outputs": [
        {
          "data": {
            "text/plain": [
              "<matplotlib.axes._subplots.AxesSubplot at 0x7f890fe0d350>"
            ]
          },
          "execution_count": 163,
          "metadata": {},
          "output_type": "execute_result"
        },
        {
          "data": {
            "image/png": "[encoded data removed]",
            "text/plain": [
              "<Figure size 1440x720 with 1 Axes>"
            ]
          },
          "metadata": {},
          "output_type": "display_data"
        }
      ],
      "source": [
        "plt.figure(figsize= (20,10))\n",
        "sns.barplot(data = df_import, x= 0, y= 1)"
      ]
    },
    {
      "cell_type": "code",
      "execution_count": null,
      "metadata": {
        "colab": {
          "base_uri": "https://localhost:8080/",
          "height": 563
        },
        "id": "5EQiuVVta5pu",
        "outputId": "e78675d8-a135-4a28-8ad3-e0a1df80adf9"
      },
      "outputs": [
        {
          "data": {
            "text/plain": [
              "<BarContainer object of 9 artists>"
            ]
          },
          "execution_count": 194,
          "metadata": {},
          "output_type": "execute_result"
        },
        {
          "data": {
            "image/png": "[encoded data removed]",
            "text/plain": [
              "<Figure size 1440x720 with 1 Axes>"
            ]
          },
          "metadata": {},
          "output_type": "display_data"
        }
      ],
      "source": [
        "plt.figure(figsize= (20,10))\n",
        "plt.barh(x_train.columns, xgb_final_model.feature_importances_)"
      ]
    },
    {
      "cell_type": "code",
      "execution_count": null,
      "metadata": {
        "id": "lkSWKoBPYm2W"
      },
      "outputs": [],
      "source": [
        "# Define a function to select the indices of the top k feature importances\n",
        "def indices_of_top_k(arr, k):\n",
        "    # Your code here\n",
        "    return np.sort(np.argpartition(np.array(arr),-k)[-k:])"
      ]
    },
    {
      "cell_type": "code",
      "execution_count": null,
      "metadata": {
        "id": "627vLz4jYrX8"
      },
      "outputs": [],
      "source": [
        "k =9"
      ]
    },
    {
      "cell_type": "code",
      "execution_count": null,
      "metadata": {
        "colab": {
          "base_uri": "https://localhost:8080/"
        },
        "id": "q-SWhYOvYoi3",
        "outputId": "3fb65893-1b9b-4cce-e952-77a0a7fd27b1"
      },
      "outputs": [
        {
          "data": {
            "text/plain": [
              "array([ 9, 12, 13, 25, 26, 35, 37, 38, 39])"
            ]
          },
          "execution_count": 172,
          "metadata": {},
          "output_type": "execute_result"
        }
      ],
      "source": [
        "top_k_feature_indices = indices_of_top_k(xgb_feature_importance, k)\n",
        "top_k_feature_indices"
      ]
    },
    {
      "cell_type": "code",
      "execution_count": null,
      "metadata": {
        "colab": {
          "base_uri": "https://localhost:8080/"
        },
        "id": "Clx9xsbKYx4j",
        "outputId": "9c31cf77-5a1e-4732-f44b-0af844bf2d1a"
      },
      "outputs": [
        {
          "data": {
            "text/plain": [
              "array(['product_color_green', 'product_color_other', 'product_color_pink',\n",
              "       'product_variation_size_id_xxxs',\n",
              "       'product_variation_size_id_xxxxl', 'origin_country_PL',\n",
              "       'origin_country_US', 'origin_country_VE', 'origin_country_VN'],\n",
              "      dtype='<U39')"
            ]
          },
          "execution_count": 173,
          "metadata": {},
          "output_type": "execute_result"
        }
      ],
      "source": [
        "np.array(attributes)[top_k_feature_indices]"
      ]
    },
    {
      "cell_type": "code",
      "execution_count": null,
      "metadata": {
        "id": "tdx0pcCZYcAa"
      },
      "outputs": [],
      "source": [
        "from sklearn.base import BaseEstimator, TransformerMixin\n",
        "\n",
        "class TopFeatureSelector(BaseEstimator, TransformerMixin):\n",
        "    def __init__(self, feature_importances, k):\n",
        "        self.feature_importances = feature_importances\n",
        "        self.k = k\n",
        "    def fit(self, X, y=None):\n",
        "        return self\n",
        "    def transform(self, X):\n",
        "        # YOUR CODE HERE\n",
        "        self.feature_index_ = indices_of_top_k(self.feature_importances, self.k)\n",
        "        return X[:,self.feature_index_]"
      ]
    },
    {
      "cell_type": "code",
      "execution_count": null,
      "metadata": {
        "id": "93v-GA_OYeRl"
      },
      "outputs": [],
      "source": [
        "# The pipeline should have the full pipeline and the top feature selectors you wrote above\n",
        "#\n",
        "preparation_and_feature_selection_pipeline = Pipeline([\n",
        "                                                       (\"preparation\",full_pipeline),\n",
        "                                                       (\"feature_selection\",TopFeatureSelector(xgb_feature_importance,k))\n",
        "])"
      ]
    },
    {
      "cell_type": "code",
      "execution_count": null,
      "metadata": {
        "id": "HjYgz75BY6sr"
      },
      "outputs": [],
      "source": [
        "top_k_features = preparation_and_feature_selection_pipeline.fit_transform(x_train)"
      ]
    },
    {
      "cell_type": "code",
      "execution_count": null,
      "metadata": {
        "colab": {
          "base_uri": "https://localhost:8080/"
        },
        "id": "aoWwysnvZLJp",
        "outputId": "3dd83f5d-cc44-491d-82bd-c9ab8e8f0298"
      },
      "outputs": [
        {
          "data": {
            "text/plain": [
              "array([[0.00000000e+00, 0.00000000e+00, 1.00000000e+00, 0.00000000e+00,\n",
              "        1.00000000e+00, 1.96649934e-04, 1.00000000e+00, 1.25000000e-02,\n",
              "        1.00000000e+00],\n",
              "       [0.00000000e+00, 0.00000000e+00, 1.00000000e+00, 0.00000000e+00,\n",
              "        1.00000000e+00, 5.12432192e-04, 2.00000000e-01, 3.75000000e-02,\n",
              "        1.00000000e+00],\n",
              "       [0.00000000e+00, 0.00000000e+00, 0.00000000e+00, 0.00000000e+00,\n",
              "        1.00000000e+00, 2.00729808e-04, 1.00000000e-01, 1.25000000e-02,\n",
              "        1.00000000e+00]])"
            ]
          },
          "execution_count": 179,
          "metadata": {},
          "output_type": "execute_result"
        }
      ],
      "source": [
        "top_k_features[0:3]"
      ]
    },
    {
      "cell_type": "code",
      "execution_count": null,
      "metadata": {
        "colab": {
          "base_uri": "https://localhost:8080/"
        },
        "id": "RjnMxHxhZPj3",
        "outputId": "56d4daec-a247-44c1-e962-7c8261292301"
      },
      "outputs": [
        {
          "data": {
            "text/plain": [
              "array([[0.00000000e+00, 0.00000000e+00, 1.00000000e+00, 0.00000000e+00,\n",
              "        1.00000000e+00, 1.96649934e-04, 1.00000000e+00, 1.25000000e-02,\n",
              "        1.00000000e+00],\n",
              "       [0.00000000e+00, 0.00000000e+00, 1.00000000e+00, 0.00000000e+00,\n",
              "        1.00000000e+00, 5.12432192e-04, 2.00000000e-01, 3.75000000e-02,\n",
              "        1.00000000e+00],\n",
              "       [0.00000000e+00, 0.00000000e+00, 0.00000000e+00, 0.00000000e+00,\n",
              "        1.00000000e+00, 2.00729808e-04, 1.00000000e-01, 1.25000000e-02,\n",
              "        1.00000000e+00]])"
            ]
          },
          "execution_count": 181,
          "metadata": {},
          "output_type": "execute_result"
        }
      ],
      "source": [
        "\u001dX_train_transformed[0:3, top_k_feature_indices]"
      ]
    },
    {
      "cell_type": "code",
      "execution_count": null,
      "metadata": {
        "id": "sZ6fNoOrZrCs"
      },
      "outputs": [],
      "source": [
        "\n",
        "xgb_prepare_select_and_predict_pipeline = Pipeline([\n",
        "                                                (\"preparation\",full_pipeline),\n",
        "                                                (\"feature_selection\",TopFeatureSelector(xgb_feature_importance,k)),\n",
        "                                                (\"model_lgbm\",xgb_final_model)\n",
        "])"
      ]
    },
    {
      "cell_type": "code",
      "execution_count": null,
      "metadata": {
        "colab": {
          "base_uri": "https://localhost:8080/"
        },
        "id": "wCN9hW59Z4Lc",
        "outputId": "d7f73c85-1be1-4003-df1c-ba45de44b43c"
      },
      "outputs": [
        {
          "data": {
            "text/plain": [
              "Pipeline(steps=[('preparation',\n",
              "                 ColumnTransformer(remainder='passthrough',\n",
              "                                   transformers=[('cat',\n",
              "                                                  Pipeline(steps=[('encoder',\n",
              "                                                                   OneHotEncoder(handle_unknown='ignore',\n",
              "                                                                                 sparse=False))]),\n",
              "                                                  ['product_color',\n",
              "                                                   'product_variation_size_id',\n",
              "                                                   'shipping_option_name',\n",
              "                                                   'origin_country']),\n",
              "                                                 ('num',\n",
              "                                                  Pipeline(steps=[('poly',\n",
              "                                                                   PolynomialFeatures(degree=1,\n",
              "                                                                                      include_bias=False)),\n",
              "                                                                  ('scale...\n",
              "       0.01500821, 0.01552257, 0.03705075, 0.05168052, 0.01664945,\n",
              "       0.01300695, 0.01881617, 0.00042025, 0.01688991, 0.        ,\n",
              "       0.        , 0.        , 0.        , 0.02110962, 0.        ,\n",
              "       0.20758636, 0.08750139, 0.00805732, 0.        , 0.01770721,\n",
              "       0.        , 0.        , 0.01804804, 0.01059375, 0.        ,\n",
              "       0.12258548, 0.0204109 , 0.03466636, 0.08809322, 0.02763926],\n",
              "      dtype=float32),\n",
              "                                    k=9)),\n",
              "                ('model_lgbm',\n",
              "                 XGBClassifier(learning_rate=0.01, max_depth=5, missing=nan,\n",
              "                               n_estimators=161, objective='multi:softprob'))])"
            ]
          },
          "execution_count": 187,
          "metadata": {},
          "output_type": "execute_result"
        }
      ],
      "source": [
        "xgb_prepare_select_and_predict_pipeline.fit(x_train, y_train)"
      ]
    },
    {
      "cell_type": "code",
      "execution_count": null,
      "metadata": {
        "colab": {
          "base_uri": "https://localhost:8080/"
        },
        "id": "If2EjvMaaTG2",
        "outputId": "80b41262-992b-450d-fc75-5b70600fa263"
      },
      "outputs": [
        {
          "name": "stdout",
          "output_type": "stream",
          "text": [
            "Predictions:  [1000.  100.  100.  100.]\n",
            "Labels:  [100.0, 10000.0, 100.0, 100.0]\n"
          ]
        }
      ],
      "source": [
        "some_data = x_train.iloc[:4]\n",
        "some_labels = y_test.iloc[:4]\n",
        "\n",
        "print(\"Predictions: \", xgb_prepare_select_and_predict_pipeline.predict(some_data))\n",
        "print(\"Labels: \", list(some_labels))"
      ]
    }
  ],
  "metadata": {
    "colab": {
      "collapsed_sections": [
        "-FnurtL5GaGq",
        "hiyRhmKtnsFV",
        "alJMOcX2qCOZ",
        "4F9cBPGDCDbw",
        "uLlMdPKXn2Pf",
        "YdlfBNoFoCDi",
        "q6lNkrsu5bAE",
        "UJoETDbk9o2b",
        "TZOOeOKZClLh",
        "JY9JwuXcN961",
        "g6gZEii8VhiI",
        "91-Y4h_w2CV-"
      ],
      "name": "MODEL Final Project.ipynb",
      "provenance": [],
      "toc_visible": true
    },
    "kernelspec": {
      "display_name": "Python 3",
      "name": "python3"
    },
    "language_info": {
      "name": "python"
    }
  },
  "nbformat": 4,
  "nbformat_minor": 0
}